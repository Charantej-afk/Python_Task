{
  "cells": [
    {
      "cell_type": "markdown",
      "metadata": {
        "id": "view-in-github",
        "colab_type": "text"
      },
      "source": [
        "<a href=\"https://colab.research.google.com/github/Charantej-afk/Python_Task/blob/main/string_fucntions.ipynb\" target=\"_parent\"><img src=\"https://colab.research.google.com/assets/colab-badge.svg\" alt=\"Open In Colab\"/></a>"
      ]
    },
    {
      "cell_type": "code",
      "execution_count": null,
      "id": "cd619399-dfee-49d8-840d-475b8b3e27f2",
      "metadata": {
        "colab": {
          "base_uri": "https://localhost:8080/"
        },
        "id": "cd619399-dfee-49d8-840d-475b8b3e27f2",
        "outputId": "6a68ebb6-fef3-4fd0-bafa-7020c5dc5357"
      },
      "outputs": [
        {
          "output_type": "stream",
          "name": "stdout",
          "text": [
            "['__add__', '__class__', '__contains__', '__delattr__', '__dir__', '__doc__', '__eq__', '__format__', '__ge__', '__getattribute__', '__getitem__', '__getnewargs__', '__getstate__', '__gt__', '__hash__', '__init__', '__init_subclass__', '__iter__', '__le__', '__len__', '__lt__', '__mod__', '__mul__', '__ne__', '__new__', '__reduce__', '__reduce_ex__', '__repr__', '__rmod__', '__rmul__', '__setattr__', '__sizeof__', '__str__', '__subclasshook__', 'capitalize', 'casefold', 'center', 'count', 'encode', 'endswith', 'expandtabs', 'find', 'format', 'format_map', 'index', 'isalnum', 'isalpha', 'isascii', 'isdecimal', 'isdigit', 'isidentifier', 'islower', 'isnumeric', 'isprintable', 'isspace', 'istitle', 'isupper', 'join', 'ljust', 'lower', 'lstrip', 'maketrans', 'partition', 'removeprefix', 'removesuffix', 'replace', 'rfind', 'rindex', 'rjust', 'rpartition', 'rsplit', 'rstrip', 'split', 'splitlines', 'startswith', 'strip', 'swapcase', 'title', 'translate', 'upper', 'zfill']\n",
            "\n",
            "\n"
          ]
        }
      ],
      "source": [
        "s=\"apple\"\n",
        "print(dir(s))\n",
        "print(\"\\n\")"
      ]
    },
    {
      "cell_type": "markdown",
      "source": [
        "'capitalize', 'casefold', 'center', 'count', 'encode', 'endswith', 'expandtabs', 'find', 'format', 'format_map', 'index', 'isalnum', 'isalpha', 'isascii', 'isdecimal', 'isdigit', 'isidentifier', 'islower', 'isnumeric', 'isprintable'"
      ],
      "metadata": {
        "id": "VlRmEPeBM_pG"
      },
      "id": "VlRmEPeBM_pG"
    },
    {
      "cell_type": "markdown",
      "source": [
        "1. capitalize()"
      ],
      "metadata": {
        "id": "1S5D_l0iN6sw"
      },
      "id": "1S5D_l0iN6sw"
    },
    {
      "cell_type": "code",
      "execution_count": null,
      "id": "2ad0abba-345c-463c-8160-b2146b324b25",
      "metadata": {
        "colab": {
          "base_uri": "https://localhost:8080/"
        },
        "id": "2ad0abba-345c-463c-8160-b2146b324b25",
        "outputId": "b73f6df3-09a5-4cf0-d116-56da5fa6dd98"
      },
      "outputs": [
        {
          "output_type": "stream",
          "name": "stdout",
          "text": [
            "Apple\n"
          ]
        }
      ],
      "source": [
        "a=\"apple\"\n",
        "print(a.capitalize())"
      ]
    },
    {
      "cell_type": "code",
      "source": [
        "a=\"class\"\n",
        "print(a.capitalize())"
      ],
      "metadata": {
        "colab": {
          "base_uri": "https://localhost:8080/"
        },
        "id": "Sqyrv8BsNYV_",
        "outputId": "dd221422-c744-434b-fea7-611604cc0ebc"
      },
      "id": "Sqyrv8BsNYV_",
      "execution_count": null,
      "outputs": [
        {
          "output_type": "stream",
          "name": "stdout",
          "text": [
            "Class\n"
          ]
        }
      ]
    },
    {
      "cell_type": "code",
      "source": [
        "a=\"lionking\"\n",
        "print(a.capitalize())"
      ],
      "metadata": {
        "colab": {
          "base_uri": "https://localhost:8080/"
        },
        "id": "RIkjdvMcNh4C",
        "outputId": "602d6cce-6cb1-47fe-ba16-408173eb964c"
      },
      "id": "RIkjdvMcNh4C",
      "execution_count": null,
      "outputs": [
        {
          "output_type": "stream",
          "name": "stdout",
          "text": [
            "Lionking\n"
          ]
        }
      ]
    },
    {
      "cell_type": "markdown",
      "source": [
        "2. casefold()"
      ],
      "metadata": {
        "id": "tzirKNWTODUp"
      },
      "id": "tzirKNWTODUp"
    },
    {
      "cell_type": "code",
      "source": [
        "a=\"APPle\"\n",
        "print(a.casefold())"
      ],
      "metadata": {
        "colab": {
          "base_uri": "https://localhost:8080/"
        },
        "id": "OCB5Y7gON2xK",
        "outputId": "bee98937-567e-4080-a5b2-b5a9b79f7c52"
      },
      "id": "OCB5Y7gON2xK",
      "execution_count": null,
      "outputs": [
        {
          "output_type": "stream",
          "name": "stdout",
          "text": [
            "apple\n"
          ]
        }
      ]
    },
    {
      "cell_type": "code",
      "source": [
        "a=\"CLASS\"\n",
        "print(a.casefold())"
      ],
      "metadata": {
        "colab": {
          "base_uri": "https://localhost:8080/"
        },
        "id": "QXZstsLhOLKd",
        "outputId": "7dafd97f-f41e-4616-a134-d2ceef9a0ed6"
      },
      "id": "QXZstsLhOLKd",
      "execution_count": null,
      "outputs": [
        {
          "output_type": "stream",
          "name": "stdout",
          "text": [
            "class\n"
          ]
        }
      ]
    },
    {
      "cell_type": "code",
      "source": [
        "a=\"LionKing\"\n",
        "print(a.casefold())"
      ],
      "metadata": {
        "colab": {
          "base_uri": "https://localhost:8080/"
        },
        "id": "ZGn4_89COSHq",
        "outputId": "ddf8c312-7d1c-49b2-d9ec-9be08abec022"
      },
      "id": "ZGn4_89COSHq",
      "execution_count": null,
      "outputs": [
        {
          "output_type": "stream",
          "name": "stdout",
          "text": [
            "lionking\n"
          ]
        }
      ]
    },
    {
      "cell_type": "markdown",
      "source": [
        "3. center()"
      ],
      "metadata": {
        "id": "zInVyN7APKAN"
      },
      "id": "zInVyN7APKAN"
    },
    {
      "cell_type": "code",
      "source": [
        "a=\"apple\"\n",
        "print(a.center(11,\"*\"))"
      ],
      "metadata": {
        "colab": {
          "base_uri": "https://localhost:8080/"
        },
        "id": "ouRsDKzIPLEd",
        "outputId": "43783536-65c8-41d0-e627-cb9a801917e1"
      },
      "id": "ouRsDKzIPLEd",
      "execution_count": null,
      "outputs": [
        {
          "output_type": "stream",
          "name": "stdout",
          "text": [
            "***apple***\n"
          ]
        }
      ]
    },
    {
      "cell_type": "code",
      "source": [
        "a=\"class\"\n",
        "centered_string=a.center(21,\"$\")\n",
        "print(centered_string)"
      ],
      "metadata": {
        "colab": {
          "base_uri": "https://localhost:8080/"
        },
        "id": "qKU7ukflPjuB",
        "outputId": "c3aa77b9-9a31-4fe0-e250-a9f9c1652643"
      },
      "id": "qKU7ukflPjuB",
      "execution_count": null,
      "outputs": [
        {
          "output_type": "stream",
          "name": "stdout",
          "text": [
            "$$$$$$$$class$$$$$$$$\n"
          ]
        }
      ]
    },
    {
      "cell_type": "code",
      "source": [
        "a=\" Lionking \"\n",
        "centered_string=a.center(22,\"@\")\n",
        "print(centered_string)"
      ],
      "metadata": {
        "colab": {
          "base_uri": "https://localhost:8080/"
        },
        "id": "yLy-KobBPykH",
        "outputId": "5c69ff76-c7a1-43b6-8412-6e639bdeaa6a"
      },
      "id": "yLy-KobBPykH",
      "execution_count": null,
      "outputs": [
        {
          "output_type": "stream",
          "name": "stdout",
          "text": [
            "@@@@@@ Lionking @@@@@@\n"
          ]
        }
      ]
    },
    {
      "cell_type": "markdown",
      "source": [
        "4. count()"
      ],
      "metadata": {
        "id": "_-8jKZ4IQF3a"
      },
      "id": "_-8jKZ4IQF3a"
    },
    {
      "cell_type": "code",
      "source": [
        "a=\"apple\"\n",
        "centered_string=a.count(\"p\")\n",
        "print(centered_string)"
      ],
      "metadata": {
        "colab": {
          "base_uri": "https://localhost:8080/"
        },
        "id": "4T3Ui5GAQH5u",
        "outputId": "b6ebf129-3dfa-4fc7-d7db-f85d2cdf4427"
      },
      "id": "4T3Ui5GAQH5u",
      "execution_count": null,
      "outputs": [
        {
          "output_type": "stream",
          "name": "stdout",
          "text": [
            "2\n"
          ]
        }
      ]
    },
    {
      "cell_type": "code",
      "source": [
        "a=\"class\"\n",
        "centered_string=a.count(\"a\")\n",
        "print(centered_string)"
      ],
      "metadata": {
        "colab": {
          "base_uri": "https://localhost:8080/"
        },
        "id": "AGrFiQBrQPEe",
        "outputId": "747b96cf-70d7-4cde-85b6-e4309d45d677"
      },
      "id": "AGrFiQBrQPEe",
      "execution_count": null,
      "outputs": [
        {
          "output_type": "stream",
          "name": "stdout",
          "text": [
            "1\n"
          ]
        }
      ]
    },
    {
      "cell_type": "code",
      "source": [
        "a=\"Lionking\"\n",
        "centered_string=a.count(\"l\")\n",
        "centered_string2=a.count(\"L\")\n",
        "print(centered_string,centered_string2)"
      ],
      "metadata": {
        "colab": {
          "base_uri": "https://localhost:8080/"
        },
        "id": "cT6bRikcQTPu",
        "outputId": "45732d9b-38b7-45db-eca1-b39849beff75"
      },
      "id": "cT6bRikcQTPu",
      "execution_count": null,
      "outputs": [
        {
          "output_type": "stream",
          "name": "stdout",
          "text": [
            "0 1\n"
          ]
        }
      ]
    },
    {
      "cell_type": "markdown",
      "source": [
        "5. encode()"
      ],
      "metadata": {
        "id": "e9vsOsc-QrcA"
      },
      "id": "e9vsOsc-QrcA"
    },
    {
      "cell_type": "code",
      "source": [
        "a=\"apple\"\n",
        "centered_string=a.encode()\n",
        "print(centered_string)"
      ],
      "metadata": {
        "colab": {
          "base_uri": "https://localhost:8080/"
        },
        "id": "yT2ReQUMQsxG",
        "outputId": "65733a08-b352-46cf-9c92-6a067eb7d241"
      },
      "id": "yT2ReQUMQsxG",
      "execution_count": null,
      "outputs": [
        {
          "output_type": "stream",
          "name": "stdout",
          "text": [
            "b'apple'\n"
          ]
        }
      ]
    },
    {
      "cell_type": "code",
      "source": [
        "a=\"Class\"\n",
        "centered_string=a.encode(\"utf-16\")\n",
        "centered_string5=a.encode(\"latin-1\")\n",
        "print(centered_string)\n",
        "print(centered_string5)"
      ],
      "metadata": {
        "colab": {
          "base_uri": "https://localhost:8080/"
        },
        "id": "FuZfdMj-Rd2D",
        "outputId": "f5462c3f-541b-498a-d67d-935bc0671efd"
      },
      "id": "FuZfdMj-Rd2D",
      "execution_count": null,
      "outputs": [
        {
          "output_type": "stream",
          "name": "stdout",
          "text": [
            "b'\\xff\\xfeC\\x00l\\x00a\\x00s\\x00s\\x00'\n",
            "b'Class'\n"
          ]
        }
      ]
    },
    {
      "cell_type": "code",
      "source": [
        "a=\"Lionōing\"\n",
        "centered_string=a.encode(\"utf-8\")\n",
        "centered_string2=a.encode(\"utf-16\")\n",
        "centered_string3=a.encode(\"utf-32\")\n",
        "centered_string4=a.encode(\"ascii\",errors=\"backslashreplace\")\n",
        "print(centered_string)\n",
        "print(centered_string2)\n",
        "print(centered_string3)\n",
        "print(centered_string4)\n"
      ],
      "metadata": {
        "colab": {
          "base_uri": "https://localhost:8080/"
        },
        "id": "86Rizm0zRy53",
        "outputId": "2c3a7c90-668f-4931-882b-e36be09eb5bc"
      },
      "id": "86Rizm0zRy53",
      "execution_count": null,
      "outputs": [
        {
          "output_type": "stream",
          "name": "stdout",
          "text": [
            "b'Lion\\xc5\\x8ding'\n",
            "b'\\xff\\xfeL\\x00i\\x00o\\x00n\\x00M\\x01i\\x00n\\x00g\\x00'\n",
            "b'\\xff\\xfe\\x00\\x00L\\x00\\x00\\x00i\\x00\\x00\\x00o\\x00\\x00\\x00n\\x00\\x00\\x00M\\x01\\x00\\x00i\\x00\\x00\\x00n\\x00\\x00\\x00g\\x00\\x00\\x00'\n",
            "b'Lion\\\\u014ding'\n"
          ]
        }
      ]
    },
    {
      "cell_type": "markdown",
      "source": [
        "6. endswith()"
      ],
      "metadata": {
        "id": "L1ghFu9eSqUk"
      },
      "id": "L1ghFu9eSqUk"
    },
    {
      "cell_type": "code",
      "source": [
        "a=\"apple\"\n",
        "string=a.endswith(\"e\")\n",
        "print(string)"
      ],
      "metadata": {
        "id": "vChXlN0XSolP",
        "colab": {
          "base_uri": "https://localhost:8080/"
        },
        "outputId": "70105e5b-0a09-40db-8ce8-9a96b11b5efb"
      },
      "id": "vChXlN0XSolP",
      "execution_count": null,
      "outputs": [
        {
          "output_type": "stream",
          "name": "stdout",
          "text": [
            "True\n"
          ]
        }
      ]
    },
    {
      "cell_type": "code",
      "source": [
        "a=\"Class has started at 10'o clock and you are late\"\n",
        "string=a.endswith(\"late.\")\n",
        "print(string)"
      ],
      "metadata": {
        "colab": {
          "base_uri": "https://localhost:8080/"
        },
        "id": "fLgIklkDT7MK",
        "outputId": "a9c67648-917c-44e0-a6f3-2f4028cc1158"
      },
      "id": "fLgIklkDT7MK",
      "execution_count": null,
      "outputs": [
        {
          "output_type": "stream",
          "name": "stdout",
          "text": [
            "False\n"
          ]
        }
      ]
    },
    {
      "cell_type": "code",
      "source": [
        "a=\"Lionking is the nickname for saiprasad\"\n",
        "string=a.endswith(\"sad\")\n",
        "print(string)"
      ],
      "metadata": {
        "colab": {
          "base_uri": "https://localhost:8080/"
        },
        "id": "FfdMiAuKVr_I",
        "outputId": "7c236d9a-225f-402a-8f80-da2cf8727d73"
      },
      "id": "FfdMiAuKVr_I",
      "execution_count": null,
      "outputs": [
        {
          "output_type": "stream",
          "name": "stdout",
          "text": [
            "True\n"
          ]
        }
      ]
    },
    {
      "cell_type": "markdown",
      "source": [
        "7. expandtabs()"
      ],
      "metadata": {
        "id": "hCMyhZ9Pm4zZ"
      },
      "id": "hCMyhZ9Pm4zZ"
    },
    {
      "cell_type": "code",
      "source": [
        "a=\"Fruit:\\tApple\\tOrange\\nCost:\\t20\\t25\"\n",
        "String=a.expandtabs()\n",
        "print(String)"
      ],
      "metadata": {
        "colab": {
          "base_uri": "https://localhost:8080/"
        },
        "id": "rz-Y7jY3m2Vg",
        "outputId": "362e5aa8-a074-42f7-80a6-460a11dab18f"
      },
      "id": "rz-Y7jY3m2Vg",
      "execution_count": null,
      "outputs": [
        {
          "output_type": "stream",
          "name": "stdout",
          "text": [
            "Fruit:  Apple   Orange\n",
            "Cost:   20      25\n"
          ]
        }
      ]
    },
    {
      "cell_type": "code",
      "source": [
        "a=\"Fruit:\\tApple\\tOrange\\nCost:\\t20\\t25\"\n",
        "String=a.expandtabs(15)\n",
        "print(String)"
      ],
      "metadata": {
        "colab": {
          "base_uri": "https://localhost:8080/"
        },
        "id": "8ZmuU2cpm2vh",
        "outputId": "1bbe8cbc-9804-4f4a-b071-6b8d3ec05e48"
      },
      "id": "8ZmuU2cpm2vh",
      "execution_count": null,
      "outputs": [
        {
          "output_type": "stream",
          "name": "stdout",
          "text": [
            "Fruit:         Apple          Orange\n",
            "Cost:          20             25\n"
          ]
        }
      ]
    },
    {
      "cell_type": "code",
      "source": [
        "a=\"Fruit:\\tApple\\tOrange\\nCost:\\t20\\t25\"\n",
        "String=a.expandtabs(25)\n",
        "print(String)"
      ],
      "metadata": {
        "colab": {
          "base_uri": "https://localhost:8080/"
        },
        "id": "VzdZCdcfm2zp",
        "outputId": "edb78597-ee1f-4cc8-e2cb-b86ee842f8ce"
      },
      "id": "VzdZCdcfm2zp",
      "execution_count": null,
      "outputs": [
        {
          "output_type": "stream",
          "name": "stdout",
          "text": [
            "Fruit:                   Apple                    Orange\n",
            "Cost:                    20                       25\n"
          ]
        }
      ]
    },
    {
      "cell_type": "markdown",
      "source": [
        "8. find()"
      ],
      "metadata": {
        "id": "8AV9g_RQnscg"
      },
      "id": "8AV9g_RQnscg"
    },
    {
      "cell_type": "code",
      "source": [
        "a=\"The cost of an apple is around Rs.25\"\n",
        "String=a.find(\"Rs\")\n",
        "print(String)"
      ],
      "metadata": {
        "colab": {
          "base_uri": "https://localhost:8080/"
        },
        "id": "o8Kgik4_m23N",
        "outputId": "e8ace59a-9f9f-46af-af24-2a6f7382d94e"
      },
      "id": "o8Kgik4_m23N",
      "execution_count": null,
      "outputs": [
        {
          "output_type": "stream",
          "name": "stdout",
          "text": [
            "31\n"
          ]
        }
      ]
    },
    {
      "cell_type": "code",
      "source": [
        "a=\"The cost of an apple is around Rs.25\"\n",
        "String=a.find(\"an\",25)\n",
        "print(String)"
      ],
      "metadata": {
        "colab": {
          "base_uri": "https://localhost:8080/"
        },
        "id": "9dkPHIlnm25l",
        "outputId": "9ba61d85-fe6d-40e1-c9a6-c3a90f2b4c3a"
      },
      "id": "9dkPHIlnm25l",
      "execution_count": null,
      "outputs": [
        {
          "output_type": "stream",
          "name": "stdout",
          "text": [
            "-1\n"
          ]
        }
      ]
    },
    {
      "cell_type": "code",
      "source": [
        "a=\"The cost of an apple is around Rs.25\"\n",
        "String=a.find(\"a\")\n",
        "print(String)"
      ],
      "metadata": {
        "colab": {
          "base_uri": "https://localhost:8080/"
        },
        "id": "_ROCFHGSm3Fa",
        "outputId": "47a2bd90-3032-4948-fa9d-e9cedbc69c09"
      },
      "id": "_ROCFHGSm3Fa",
      "execution_count": null,
      "outputs": [
        {
          "output_type": "stream",
          "name": "stdout",
          "text": [
            "12\n"
          ]
        }
      ]
    },
    {
      "cell_type": "markdown",
      "source": [
        "9. format()"
      ],
      "metadata": {
        "id": "hJ8UoJIbpGU_"
      },
      "id": "hJ8UoJIbpGU_"
    },
    {
      "cell_type": "code",
      "source": [
        "fruit=\"apple\"\n",
        "cost=\"20\"\n",
        "String=\"The fruit is {} and it's cost is around Rs.{}\".format(fruit,cost)\n",
        "print(String)"
      ],
      "metadata": {
        "colab": {
          "base_uri": "https://localhost:8080/"
        },
        "id": "E43tOTp3pKlA",
        "outputId": "910eb0bf-be21-410c-81ca-b20c0d8adc5e"
      },
      "id": "E43tOTp3pKlA",
      "execution_count": null,
      "outputs": [
        {
          "output_type": "stream",
          "name": "stdout",
          "text": [
            "The fruit is apple and it's cost is around Rs.20\n"
          ]
        }
      ]
    },
    {
      "cell_type": "code",
      "source": [
        "fruit=\"apple\"\n",
        "cost=\"20\"\n",
        "String=\"The price is Rs.{1} and the fruit name is {0}\".format(fruit,cost)\n",
        "print(String)"
      ],
      "metadata": {
        "colab": {
          "base_uri": "https://localhost:8080/"
        },
        "id": "cvwol93qpLMx",
        "outputId": "d1525345-cc80-4356-e113-703774da75ec"
      },
      "id": "cvwol93qpLMx",
      "execution_count": null,
      "outputs": [
        {
          "output_type": "stream",
          "name": "stdout",
          "text": [
            "The price is Rs.20 and the fruit name is apple\n"
          ]
        }
      ]
    },
    {
      "cell_type": "code",
      "source": [
        "a=\"The name of the fruit is {Fruit} and the price for the fruit is {Cost}\".format(Fruit=\"Apple\",Cost=\"30\")\n",
        "print(a)"
      ],
      "metadata": {
        "colab": {
          "base_uri": "https://localhost:8080/"
        },
        "id": "-S992-5LpLVt",
        "outputId": "4d9091c2-10e9-41fa-86a4-430c44fb6198"
      },
      "id": "-S992-5LpLVt",
      "execution_count": null,
      "outputs": [
        {
          "output_type": "stream",
          "name": "stdout",
          "text": [
            "The name of the fruit is Apple and the price for the fruit is 30\n"
          ]
        }
      ]
    },
    {
      "cell_type": "markdown",
      "source": [
        "10. format_map()"
      ],
      "metadata": {
        "id": "m2kVlSTEq8Ad"
      },
      "id": "m2kVlSTEq8Ad"
    },
    {
      "cell_type": "code",
      "source": [
        "a={\"x\":\"Lionking\",\"y\":\"Saiprasad\"}\n",
        "print(\"{x} is the surname of {y}\".format_map(a))"
      ],
      "metadata": {
        "colab": {
          "base_uri": "https://localhost:8080/"
        },
        "id": "aY2kcZMxq9xp",
        "outputId": "9e1f6736-3d30-47bd-b756-bc84cf413faf"
      },
      "id": "aY2kcZMxq9xp",
      "execution_count": null,
      "outputs": [
        {
          "output_type": "stream",
          "name": "stdout",
          "text": [
            "Lionking is the surname of Saiprasad\n"
          ]
        }
      ]
    },
    {
      "cell_type": "code",
      "source": [
        "a={\"x\":\"Shaik\",\"y\":\"Azeem\"}\n",
        "print(\"{x} is the surname of {y}\".format_map(a))"
      ],
      "metadata": {
        "colab": {
          "base_uri": "https://localhost:8080/"
        },
        "id": "8f5ZtVPxq-rI",
        "outputId": "27c608e3-e261-4665-8662-fca835c1f07c"
      },
      "id": "8f5ZtVPxq-rI",
      "execution_count": null,
      "outputs": [
        {
          "output_type": "stream",
          "name": "stdout",
          "text": [
            "Shaik is the surname of Azeem\n"
          ]
        }
      ]
    },
    {
      "cell_type": "code",
      "source": [
        "a={\"name\":[\"Charantej\",\"Azeem\",\"Sai prasad\"],\"profession\":[\"Devops\",\"Java\",\"Python\"],\"Age\":[\"25\",\"35\",\"29\"]}\n",
        "print(\"{name[0]} is an {profession[0]} professional and he is {Age[0]} years old.\".format_map(a))\n",
        "print(\"{name[1]} is an {profession[1]} professional and he is {Age[1]} years old.\".format_map(a))\n",
        "print(\"{name[2]} is an {profession[2]} professional and he is {Age[2]} years old.\".format_map(a))"
      ],
      "metadata": {
        "colab": {
          "base_uri": "https://localhost:8080/"
        },
        "id": "vpWjlfIBq-y0",
        "outputId": "ad7f19ff-7927-44e7-ea08-9776e277e31b"
      },
      "id": "vpWjlfIBq-y0",
      "execution_count": null,
      "outputs": [
        {
          "output_type": "stream",
          "name": "stdout",
          "text": [
            "Charantej is an Devops professional and he is 25 years old.\n",
            "Azeem is an Java professional and he is 35 years old.\n",
            "Sai prasad is an Python professional and he is 29 years old.\n"
          ]
        }
      ]
    },
    {
      "cell_type": "markdown",
      "source": [
        "11. Index()"
      ],
      "metadata": {
        "id": "I7peaTovvi6h"
      },
      "id": "I7peaTovvi6h"
    },
    {
      "cell_type": "code",
      "source": [
        "a=\"My name is Charantej Akri and I am a Devops Engineer\"\n",
        "String=a.index(\"s\")\n",
        "print(String)"
      ],
      "metadata": {
        "id": "KVMp6SLayuBt"
      },
      "id": "KVMp6SLayuBt",
      "execution_count": null,
      "outputs": []
    },
    {
      "cell_type": "code",
      "source": [
        "a=\"My name is Charantej Akri and I am a Devops Engineer\"\n",
        "String=a.index(\"I\")\n",
        "print(String)"
      ],
      "metadata": {
        "colab": {
          "base_uri": "https://localhost:8080/"
        },
        "id": "vT8p712lysq0",
        "outputId": "80d37e33-5569-4a93-a22d-b0851e608ae7"
      },
      "id": "vT8p712lysq0",
      "execution_count": null,
      "outputs": [
        {
          "output_type": "stream",
          "name": "stdout",
          "text": [
            "30\n"
          ]
        }
      ]
    },
    {
      "cell_type": "code",
      "source": [
        "a=\"My name is Charantej Akri and I am a Devops Engineer\"\n",
        "String=a.index(\"D\")\n",
        "print(String)"
      ],
      "metadata": {
        "colab": {
          "base_uri": "https://localhost:8080/"
        },
        "id": "I1lc1Qaeyzge",
        "outputId": "41c06da8-f065-47d2-f28a-4915029432ca"
      },
      "id": "I1lc1Qaeyzge",
      "execution_count": null,
      "outputs": [
        {
          "output_type": "stream",
          "name": "stdout",
          "text": [
            "37\n"
          ]
        }
      ]
    },
    {
      "cell_type": "markdown",
      "source": [
        "12. isalnum()"
      ],
      "metadata": {
        "id": "cyv8_8cry-dF"
      },
      "id": "cyv8_8cry-dF"
    },
    {
      "cell_type": "code",
      "source": [
        "a=\"\"\n",
        "print(a.isalnum())"
      ],
      "metadata": {
        "colab": {
          "base_uri": "https://localhost:8080/"
        },
        "id": "925Ih-1jy_lV",
        "outputId": "1b0a5eb5-aba7-4f98-dc06-4f2545fba64f"
      },
      "id": "925Ih-1jy_lV",
      "execution_count": null,
      "outputs": [
        {
          "output_type": "stream",
          "name": "stdout",
          "text": [
            "False\n"
          ]
        }
      ]
    },
    {
      "cell_type": "code",
      "source": [
        "a=\"Python!\"\n",
        "print(a.isalnum())"
      ],
      "metadata": {
        "colab": {
          "base_uri": "https://localhost:8080/"
        },
        "id": "gKkNzt0RzV7e",
        "outputId": "64b78af8-2b37-4ced-9ad2-9204cb979b4e"
      },
      "id": "gKkNzt0RzV7e",
      "execution_count": null,
      "outputs": [
        {
          "output_type": "stream",
          "name": "stdout",
          "text": [
            "False\n"
          ]
        }
      ]
    },
    {
      "cell_type": "code",
      "source": [
        "a=\"Charan123\"\n",
        "print(a.isalnum())"
      ],
      "metadata": {
        "colab": {
          "base_uri": "https://localhost:8080/"
        },
        "id": "L1mGOeW9zVvz",
        "outputId": "bae267f4-8ff2-44bc-ca43-5b0ac99713fd"
      },
      "id": "L1mGOeW9zVvz",
      "execution_count": null,
      "outputs": [
        {
          "output_type": "stream",
          "name": "stdout",
          "text": [
            "True\n"
          ]
        }
      ]
    },
    {
      "cell_type": "markdown",
      "source": [
        "13. isalpha()"
      ],
      "metadata": {
        "id": "HVH6i213zjvC"
      },
      "id": "HVH6i213zjvC"
    },
    {
      "cell_type": "code",
      "source": [
        "a=\"Charantej123\"\n",
        "print(a.isalpha())"
      ],
      "metadata": {
        "colab": {
          "base_uri": "https://localhost:8080/"
        },
        "id": "J4ZvDdMIzljx",
        "outputId": "e2b15581-53f4-4808-abfc-e9e4223721c3"
      },
      "id": "J4ZvDdMIzljx",
      "execution_count": null,
      "outputs": [
        {
          "output_type": "stream",
          "name": "stdout",
          "text": [
            "False\n"
          ]
        }
      ]
    },
    {
      "cell_type": "code",
      "source": [
        "a=\"Python\"\n",
        "print(a.isalpha())"
      ],
      "metadata": {
        "colab": {
          "base_uri": "https://localhost:8080/"
        },
        "id": "zaEqkLA2zmKN",
        "outputId": "a8459850-6272-4a77-bff7-9cbdc7c0d91d"
      },
      "id": "zaEqkLA2zmKN",
      "execution_count": null,
      "outputs": [
        {
          "output_type": "stream",
          "name": "stdout",
          "text": [
            "True\n"
          ]
        }
      ]
    },
    {
      "cell_type": "code",
      "source": [
        "a=\"1223423423\"\n",
        "print(a.isalpha())"
      ],
      "metadata": {
        "colab": {
          "base_uri": "https://localhost:8080/"
        },
        "id": "qRt0FytRzmDZ",
        "outputId": "d1ad0ece-361e-44f9-ae18-1f7aad22141e"
      },
      "id": "qRt0FytRzmDZ",
      "execution_count": null,
      "outputs": [
        {
          "output_type": "stream",
          "name": "stdout",
          "text": [
            "False\n"
          ]
        }
      ]
    },
    {
      "cell_type": "markdown",
      "source": [
        "14. isascii()"
      ],
      "metadata": {
        "id": "SgmaYdDgz9Jp"
      },
      "id": "SgmaYdDgz9Jp"
    },
    {
      "cell_type": "code",
      "source": [
        "a=\"Charan\"\n",
        "print(a.isascii())"
      ],
      "metadata": {
        "colab": {
          "base_uri": "https://localhost:8080/"
        },
        "id": "VGYHZo9Az-p_",
        "outputId": "c737bb77-9f75-4641-9e81-79da49c0f40c"
      },
      "id": "VGYHZo9Az-p_",
      "execution_count": null,
      "outputs": [
        {
          "output_type": "stream",
          "name": "stdout",
          "text": [
            "True\n"
          ]
        }
      ]
    },
    {
      "cell_type": "code",
      "source": [
        "a=\"Charanṭej\"\n",
        "print(a.isascii())"
      ],
      "metadata": {
        "colab": {
          "base_uri": "https://localhost:8080/"
        },
        "id": "l1pHedpaz_G8",
        "outputId": "f56d5950-8f21-4020-d31f-a7b4e1c61887"
      },
      "id": "l1pHedpaz_G8",
      "execution_count": null,
      "outputs": [
        {
          "output_type": "stream",
          "name": "stdout",
          "text": [
            "False\n"
          ]
        }
      ]
    },
    {
      "cell_type": "code",
      "source": [
        "a=\"\"\n",
        "print(a.isascii())"
      ],
      "metadata": {
        "colab": {
          "base_uri": "https://localhost:8080/"
        },
        "id": "RFO8-tv0z_Dm",
        "outputId": "4e13f263-0c5d-4f86-ccea-e29263d457cc"
      },
      "id": "RFO8-tv0z_Dm",
      "execution_count": null,
      "outputs": [
        {
          "output_type": "stream",
          "name": "stdout",
          "text": [
            "True\n"
          ]
        }
      ]
    },
    {
      "cell_type": "markdown",
      "source": [
        "15. isdecimal()"
      ],
      "metadata": {
        "id": "Bs8L9nF_1qU3"
      },
      "id": "Bs8L9nF_1qU3"
    },
    {
      "cell_type": "code",
      "source": [
        "a=\"1234.523423\"\n",
        "print(a.isdecimal())"
      ],
      "metadata": {
        "colab": {
          "base_uri": "https://localhost:8080/"
        },
        "id": "flVZTAZR1zfU",
        "outputId": "8ea23158-4a2f-492a-ef37-7770e2d06303"
      },
      "id": "flVZTAZR1zfU",
      "execution_count": null,
      "outputs": [
        {
          "output_type": "stream",
          "name": "stdout",
          "text": [
            "False\n"
          ]
        }
      ]
    },
    {
      "cell_type": "code",
      "source": [
        "a=\"Charan123\"\n",
        "print(a.isdecimal())"
      ],
      "metadata": {
        "colab": {
          "base_uri": "https://localhost:8080/"
        },
        "id": "7nEEuJI11zcH",
        "outputId": "faddb687-80cd-46ab-dc3a-5a86862aeaf6"
      },
      "id": "7nEEuJI11zcH",
      "execution_count": null,
      "outputs": [
        {
          "output_type": "stream",
          "name": "stdout",
          "text": [
            "False\n"
          ]
        }
      ]
    },
    {
      "cell_type": "code",
      "source": [
        "a=\"123\"\n",
        "print(a.isdecimal())"
      ],
      "metadata": {
        "colab": {
          "base_uri": "https://localhost:8080/"
        },
        "id": "uWh1mSdX1zL9",
        "outputId": "31fe460d-513e-41fd-acfc-141ea84007b7"
      },
      "id": "uWh1mSdX1zL9",
      "execution_count": null,
      "outputs": [
        {
          "output_type": "stream",
          "name": "stdout",
          "text": [
            "True\n"
          ]
        }
      ]
    },
    {
      "cell_type": "markdown",
      "source": [
        "16. isdigit()"
      ],
      "metadata": {
        "id": "ahZYwgZf3mfb"
      },
      "id": "ahZYwgZf3mfb"
    },
    {
      "cell_type": "code",
      "source": [
        "a=\"123\"\n",
        "print(a.isdigit())"
      ],
      "metadata": {
        "colab": {
          "base_uri": "https://localhost:8080/"
        },
        "id": "lOup2-z13n2k",
        "outputId": "010c0459-de52-4251-c1d5-2824a7bf2d0b"
      },
      "id": "lOup2-z13n2k",
      "execution_count": null,
      "outputs": [
        {
          "output_type": "stream",
          "name": "stdout",
          "text": [
            "True\n"
          ]
        }
      ]
    },
    {
      "cell_type": "code",
      "source": [
        "a=\"123.123\"\n",
        "print(a.isdigit())"
      ],
      "metadata": {
        "colab": {
          "base_uri": "https://localhost:8080/"
        },
        "id": "HPdo0fd53oJj",
        "outputId": "972fcf4a-a933-4a8d-deba-abbcf6a5e2e3"
      },
      "id": "HPdo0fd53oJj",
      "execution_count": null,
      "outputs": [
        {
          "output_type": "stream",
          "name": "stdout",
          "text": [
            "False\n"
          ]
        }
      ]
    },
    {
      "cell_type": "code",
      "source": [
        "a=\"c123\"\n",
        "print(a.isdigit())"
      ],
      "metadata": {
        "colab": {
          "base_uri": "https://localhost:8080/"
        },
        "id": "1z6WbBdP3n_s",
        "outputId": "8f4103d9-6104-4026-9aff-bea4d613076a"
      },
      "id": "1z6WbBdP3n_s",
      "execution_count": null,
      "outputs": [
        {
          "output_type": "stream",
          "name": "stdout",
          "text": [
            "False\n"
          ]
        }
      ]
    },
    {
      "cell_type": "markdown",
      "source": [
        "17. isidentifier()"
      ],
      "metadata": {
        "id": "8pk8k4no58Sd"
      },
      "id": "8pk8k4no58Sd"
    },
    {
      "cell_type": "code",
      "source": [
        "print(\"name\".isidentifier())\n",
        "print(\"user_name\".isidentifier())\n",
        "print(\"123abc\".isidentifier())"
      ],
      "metadata": {
        "colab": {
          "base_uri": "https://localhost:8080/"
        },
        "id": "fbVCDd1c59t8",
        "outputId": "864fc0c7-9c5b-4d46-81bc-9e8c30c5c593"
      },
      "id": "fbVCDd1c59t8",
      "execution_count": null,
      "outputs": [
        {
          "output_type": "stream",
          "name": "stdout",
          "text": [
            "True\n",
            "True\n",
            "False\n"
          ]
        }
      ]
    },
    {
      "cell_type": "code",
      "source": [
        "print(\"my name\".isidentifier())\n",
        "print(\"class\".isidentifier())\n",
        "print(\"_variable\".isidentifier())"
      ],
      "metadata": {
        "colab": {
          "base_uri": "https://localhost:8080/"
        },
        "id": "-Aa9aWTp5-Fp",
        "outputId": "fa86395b-1565-465c-91d5-3a4ba9e54f9f"
      },
      "id": "-Aa9aWTp5-Fp",
      "execution_count": null,
      "outputs": [
        {
          "output_type": "stream",
          "name": "stdout",
          "text": [
            "False\n",
            "True\n",
            "True\n"
          ]
        }
      ]
    },
    {
      "cell_type": "code",
      "source": [
        "print(\"variable_1\".isidentifier())\n",
        "print(\"variable$\".isidentifier())"
      ],
      "metadata": {
        "colab": {
          "base_uri": "https://localhost:8080/"
        },
        "id": "JYT65Zth598K",
        "outputId": "8e3dcda2-ea8a-4ea2-8293-865ce00fcdfb"
      },
      "id": "JYT65Zth598K",
      "execution_count": null,
      "outputs": [
        {
          "output_type": "stream",
          "name": "stdout",
          "text": [
            "True\n",
            "False\n"
          ]
        }
      ]
    },
    {
      "cell_type": "markdown",
      "source": [
        "18. islower()"
      ],
      "metadata": {
        "id": "8NGn1negFLzO"
      },
      "id": "8NGn1negFLzO"
    },
    {
      "cell_type": "code",
      "source": [
        "a=\"Charan\"\n",
        "print(a.islower())"
      ],
      "metadata": {
        "colab": {
          "base_uri": "https://localhost:8080/"
        },
        "id": "6ONPmGLOFNiR",
        "outputId": "912e3aa2-1b26-4a8a-f3d4-6225145aff4d"
      },
      "id": "6ONPmGLOFNiR",
      "execution_count": null,
      "outputs": [
        {
          "output_type": "stream",
          "name": "stdout",
          "text": [
            "False\n"
          ]
        }
      ]
    },
    {
      "cell_type": "code",
      "source": [
        "a=\"charan\"\n",
        "print(a.islower())"
      ],
      "metadata": {
        "colab": {
          "base_uri": "https://localhost:8080/"
        },
        "id": "bxJHIFfvFR9L",
        "outputId": "6282044d-9e6c-4dac-ff99-ee567f41f239"
      },
      "id": "bxJHIFfvFR9L",
      "execution_count": null,
      "outputs": [
        {
          "output_type": "stream",
          "name": "stdout",
          "text": [
            "True\n"
          ]
        }
      ]
    },
    {
      "cell_type": "code",
      "source": [
        "a=\"charaN\"\n",
        "print(a.islower())"
      ],
      "metadata": {
        "colab": {
          "base_uri": "https://localhost:8080/"
        },
        "id": "hZv-d2McFWLZ",
        "outputId": "a2f058aa-2dcc-4c15-937f-ed1d4f3f62e1"
      },
      "id": "hZv-d2McFWLZ",
      "execution_count": null,
      "outputs": [
        {
          "output_type": "stream",
          "name": "stdout",
          "text": [
            "False\n"
          ]
        }
      ]
    },
    {
      "cell_type": "markdown",
      "source": [
        "19. isnumeric()"
      ],
      "metadata": {
        "id": "QPAK7VRdFeFL"
      },
      "id": "QPAK7VRdFeFL"
    },
    {
      "cell_type": "code",
      "source": [
        "a=\"1234\"\n",
        "print(a.isnumeric())"
      ],
      "metadata": {
        "colab": {
          "base_uri": "https://localhost:8080/"
        },
        "id": "r7YLqYPTFfc3",
        "outputId": "192089bb-b797-483b-b1a4-dab260eb62f8"
      },
      "id": "r7YLqYPTFfc3",
      "execution_count": null,
      "outputs": [
        {
          "output_type": "stream",
          "name": "stdout",
          "text": [
            "True\n"
          ]
        }
      ]
    },
    {
      "cell_type": "code",
      "source": [
        "a=\"12.123\"\n",
        "print(a.isnumeric())"
      ],
      "metadata": {
        "colab": {
          "base_uri": "https://localhost:8080/"
        },
        "id": "nBGF6hjSFfwU",
        "outputId": "a78d7624-6288-4913-a450-e43077facfb0"
      },
      "id": "nBGF6hjSFfwU",
      "execution_count": null,
      "outputs": [
        {
          "output_type": "stream",
          "name": "stdout",
          "text": [
            "False\n"
          ]
        }
      ]
    },
    {
      "cell_type": "code",
      "source": [
        "a=\"\"\n",
        "print(a.isnumeric())"
      ],
      "metadata": {
        "colab": {
          "base_uri": "https://localhost:8080/"
        },
        "id": "hEPJGmPdFfm8",
        "outputId": "fff36b0a-d25a-402d-d237-a7c20ad37d12"
      },
      "id": "hEPJGmPdFfm8",
      "execution_count": null,
      "outputs": [
        {
          "output_type": "stream",
          "name": "stdout",
          "text": [
            "False\n"
          ]
        }
      ]
    },
    {
      "cell_type": "markdown",
      "source": [
        "20. isprintable()"
      ],
      "metadata": {
        "id": "wxSsYwD7GyYi"
      },
      "id": "wxSsYwD7GyYi"
    },
    {
      "cell_type": "code",
      "source": [
        "a=\"Charan\"\n",
        "print(a.isprintable())"
      ],
      "metadata": {
        "colab": {
          "base_uri": "https://localhost:8080/"
        },
        "id": "uKwL_x6LG2w4",
        "outputId": "fc0dbedf-8bb4-401d-f43c-01ea233c4109"
      },
      "id": "uKwL_x6LG2w4",
      "execution_count": null,
      "outputs": [
        {
          "output_type": "stream",
          "name": "stdout",
          "text": [
            "True\n"
          ]
        }
      ]
    },
    {
      "cell_type": "code",
      "source": [
        "a=\"Charantej\\nAkri\"\n",
        "print(a.isprintable())"
      ],
      "metadata": {
        "colab": {
          "base_uri": "https://localhost:8080/"
        },
        "id": "YEofG9AuH_7V",
        "outputId": "e5989755-650f-46b8-b89a-1c3d1d61ed95"
      },
      "id": "YEofG9AuH_7V",
      "execution_count": null,
      "outputs": [
        {
          "output_type": "stream",
          "name": "stdout",
          "text": [
            "False\n"
          ]
        }
      ]
    },
    {
      "cell_type": "code",
      "source": [
        "a=\"Charantej\\tAkri\"\n",
        "print(a.isprintable())"
      ],
      "metadata": {
        "colab": {
          "base_uri": "https://localhost:8080/"
        },
        "id": "TeM9e8WSIQjG",
        "outputId": "ad6f678e-29ad-4119-d40f-de34174beae2"
      },
      "id": "TeM9e8WSIQjG",
      "execution_count": null,
      "outputs": [
        {
          "output_type": "stream",
          "name": "stdout",
          "text": [
            "False\n"
          ]
        }
      ]
    },
    {
      "cell_type": "markdown",
      "source": [
        "'isspace', 'istitle', 'isupper', 'join', 'ljust', 'lower', 'lstrip', 'maketrans', 'partition', 'removeprefix', 'removesuffix', 'replace', 'rfind', 'rindex', 'rjust', 'rpartition', 'rsplit', 'rstrip', 'split', 'splitlines', 'startswith'"
      ],
      "metadata": {
        "id": "Ex18demaIbKs"
      },
      "id": "Ex18demaIbKs"
    },
    {
      "cell_type": "markdown",
      "source": [
        "21. isspace()"
      ],
      "metadata": {
        "id": "qWtFQwS6IdMB"
      },
      "id": "qWtFQwS6IdMB"
    },
    {
      "cell_type": "code",
      "source": [
        "a=\"Charantej akri\"\n",
        "print(a.isspace())"
      ],
      "metadata": {
        "colab": {
          "base_uri": "https://localhost:8080/"
        },
        "id": "0Js_VyMEIfkx",
        "outputId": "96dd3180-d8af-4614-a065-f0d877980b5c"
      },
      "id": "0Js_VyMEIfkx",
      "execution_count": null,
      "outputs": [
        {
          "output_type": "stream",
          "name": "stdout",
          "text": [
            "False\n"
          ]
        }
      ]
    },
    {
      "cell_type": "code",
      "source": [
        "a=\"\\t\\n\"\n",
        "print(a.isspace())"
      ],
      "metadata": {
        "colab": {
          "base_uri": "https://localhost:8080/"
        },
        "id": "P2rHesE4Iyrp",
        "outputId": "11484edb-3986-4965-b230-51d3a6662bf8"
      },
      "id": "P2rHesE4Iyrp",
      "execution_count": null,
      "outputs": [
        {
          "output_type": "stream",
          "name": "stdout",
          "text": [
            "True\n"
          ]
        }
      ]
    },
    {
      "cell_type": "code",
      "source": [
        "a=\" \"\n",
        "b=\" charantej \"\n",
        "c=\"\"\n",
        "print(a.isspace())\n",
        "print(b.isspace())\n",
        "print(c.isspace())"
      ],
      "metadata": {
        "colab": {
          "base_uri": "https://localhost:8080/"
        },
        "id": "eyjlQAxCIyg6",
        "outputId": "1804f374-f22c-45cd-ad02-a82d873ef3bb"
      },
      "id": "eyjlQAxCIyg6",
      "execution_count": null,
      "outputs": [
        {
          "output_type": "stream",
          "name": "stdout",
          "text": [
            "True\n",
            "False\n",
            "False\n"
          ]
        }
      ]
    },
    {
      "cell_type": "markdown",
      "source": [
        "22. istitle()"
      ],
      "metadata": {
        "id": "Mi_idZzQJRdA"
      },
      "id": "Mi_idZzQJRdA"
    },
    {
      "cell_type": "code",
      "source": [
        "a=\"Charantej akri\"\n",
        "print(a.istitle())"
      ],
      "metadata": {
        "colab": {
          "base_uri": "https://localhost:8080/"
        },
        "id": "99zgZ6B9K5d7",
        "outputId": "bb31fea4-68c4-4e73-d12f-2a1a01e690d4"
      },
      "id": "99zgZ6B9K5d7",
      "execution_count": null,
      "outputs": [
        {
          "output_type": "stream",
          "name": "stdout",
          "text": [
            "False\n"
          ]
        }
      ]
    },
    {
      "cell_type": "code",
      "source": [
        "a=\"Charantej Akri\"\n",
        "print(a.istitle())"
      ],
      "metadata": {
        "colab": {
          "base_uri": "https://localhost:8080/"
        },
        "id": "NkoYSIfnK5Vk",
        "outputId": "9198521f-cc49-418f-feb6-d0068b936327"
      },
      "id": "NkoYSIfnK5Vk",
      "execution_count": null,
      "outputs": [
        {
          "output_type": "stream",
          "name": "stdout",
          "text": [
            "True\n"
          ]
        }
      ]
    },
    {
      "cell_type": "code",
      "source": [
        "a=\"My Name is Charantej Akri\"\n",
        "print(a.istitle())"
      ],
      "metadata": {
        "colab": {
          "base_uri": "https://localhost:8080/"
        },
        "id": "w2OO70v_K5MS",
        "outputId": "cacfe36d-ef59-4ad2-d5d7-56d241b2a1ae"
      },
      "id": "w2OO70v_K5MS",
      "execution_count": null,
      "outputs": [
        {
          "output_type": "stream",
          "name": "stdout",
          "text": [
            "False\n"
          ]
        }
      ]
    },
    {
      "cell_type": "markdown",
      "source": [
        "23. Join()"
      ],
      "metadata": {
        "id": "PKh0xKlULftV"
      },
      "id": "PKh0xKlULftV"
    },
    {
      "cell_type": "code",
      "source": [
        "a=[\"Hello\",\",\",\"My\",\"Name\",\"is\",\"Charantej\",\"Akri\"]\n",
        "print(\" \".join(a))"
      ],
      "metadata": {
        "colab": {
          "base_uri": "https://localhost:8080/"
        },
        "id": "lekTu2IHLhtK",
        "outputId": "9a37e12c-8ebe-4f3c-af68-0d8182a554ca"
      },
      "id": "lekTu2IHLhtK",
      "execution_count": null,
      "outputs": [
        {
          "output_type": "stream",
          "name": "stdout",
          "text": [
            "Hello , My Name is Charantej Akri\n"
          ]
        }
      ]
    },
    {
      "cell_type": "code",
      "source": [
        "a=[\"1\",\"2\",\"3\",\"4\",\"5\",\"6\"]\n",
        "print(\"-\".join(a))"
      ],
      "metadata": {
        "colab": {
          "base_uri": "https://localhost:8080/"
        },
        "id": "2n4Rvv_9LiIQ",
        "outputId": "4969a6bf-3780-498c-a4e0-0eb3c3fac4b5"
      },
      "id": "2n4Rvv_9LiIQ",
      "execution_count": null,
      "outputs": [
        {
          "output_type": "stream",
          "name": "stdout",
          "text": [
            "1-2-3-4-5-6\n"
          ]
        }
      ]
    },
    {
      "cell_type": "code",
      "source": [
        "a=(\"P\",\"Y\",\"T\",\"H\",\"O\",\"N\")\n",
        "print(\"\".join(a))"
      ],
      "metadata": {
        "colab": {
          "base_uri": "https://localhost:8080/"
        },
        "id": "gFUTaP8ZLiBh",
        "outputId": "0ab0fab2-189b-4c20-ace4-a07c2aa6a60d"
      },
      "id": "gFUTaP8ZLiBh",
      "execution_count": null,
      "outputs": [
        {
          "output_type": "stream",
          "name": "stdout",
          "text": [
            "PYTHON\n"
          ]
        }
      ]
    },
    {
      "cell_type": "markdown",
      "source": [
        "24. ljust()"
      ],
      "metadata": {
        "id": "bqCyNjlkNAHv"
      },
      "id": "bqCyNjlkNAHv"
    },
    {
      "cell_type": "code",
      "source": [
        "a=\"Charantej\"\n",
        "b=a.ljust(15)\n",
        "print(f\"'{b}'\")"
      ],
      "metadata": {
        "colab": {
          "base_uri": "https://localhost:8080/"
        },
        "id": "8rj4rF9XNCwp",
        "outputId": "0f1ea203-2fa3-4216-9a77-0ad7716ec5ea"
      },
      "id": "8rj4rF9XNCwp",
      "execution_count": null,
      "outputs": [
        {
          "output_type": "stream",
          "name": "stdout",
          "text": [
            "'Charantej      '\n"
          ]
        }
      ]
    },
    {
      "cell_type": "code",
      "source": [
        "a=\"Charantej\"\n",
        "print(a.ljust(15,\"*\"))"
      ],
      "metadata": {
        "colab": {
          "base_uri": "https://localhost:8080/"
        },
        "id": "eplNZCgpNrbt",
        "outputId": "ab9d8e50-a19f-4c67-e05e-c9576c83b405"
      },
      "id": "eplNZCgpNrbt",
      "execution_count": null,
      "outputs": [
        {
          "output_type": "stream",
          "name": "stdout",
          "text": [
            "Charantej******\n"
          ]
        }
      ]
    },
    {
      "cell_type": "code",
      "source": [
        "a=\"Charantej\"\n",
        "print(a.ljust(20,\"-\"))"
      ],
      "metadata": {
        "colab": {
          "base_uri": "https://localhost:8080/"
        },
        "id": "Ui619IZmNrQ_",
        "outputId": "4d62f0d3-36b6-4a3a-b104-f06a02786efa"
      },
      "id": "Ui619IZmNrQ_",
      "execution_count": null,
      "outputs": [
        {
          "output_type": "stream",
          "name": "stdout",
          "text": [
            "Charantej-----------\n"
          ]
        }
      ]
    },
    {
      "cell_type": "code",
      "source": [
        "a=\"Charantej\"\n",
        "b=a.ljust(5)\n",
        "print(f\"'{b}'\")"
      ],
      "metadata": {
        "colab": {
          "base_uri": "https://localhost:8080/"
        },
        "id": "hfOBy4iVOKyO",
        "outputId": "e608e18b-f6ec-4264-c6ca-f955718573a6"
      },
      "id": "hfOBy4iVOKyO",
      "execution_count": null,
      "outputs": [
        {
          "output_type": "stream",
          "name": "stdout",
          "text": [
            "'Charantej'\n"
          ]
        }
      ]
    },
    {
      "cell_type": "markdown",
      "source": [
        "25. lower()"
      ],
      "metadata": {
        "id": "dbzDZPWqOg8X"
      },
      "id": "dbzDZPWqOg8X"
    },
    {
      "cell_type": "code",
      "source": [
        "a=\"Charantej\"\n",
        "print(a.lower())"
      ],
      "metadata": {
        "colab": {
          "base_uri": "https://localhost:8080/"
        },
        "id": "BHU1SwiMOitN",
        "outputId": "f465009a-217c-49b9-db8b-69f3b83004a3"
      },
      "id": "BHU1SwiMOitN",
      "execution_count": null,
      "outputs": [
        {
          "output_type": "stream",
          "name": "stdout",
          "text": [
            "charantej\n"
          ]
        }
      ]
    },
    {
      "cell_type": "code",
      "source": [
        "a=\"CHARANTEJ\"\n",
        "print(a.lower())"
      ],
      "metadata": {
        "colab": {
          "base_uri": "https://localhost:8080/"
        },
        "id": "D0Husv-jOjKa",
        "outputId": "46935e2d-6abd-40e2-f3d5-674084d024c4"
      },
      "id": "D0Husv-jOjKa",
      "execution_count": null,
      "outputs": [
        {
          "output_type": "stream",
          "name": "stdout",
          "text": [
            "charantej\n"
          ]
        }
      ]
    },
    {
      "cell_type": "code",
      "source": [
        "a=\"CHarantej Akri 1234433123\"\n",
        "print(a.lower())"
      ],
      "metadata": {
        "colab": {
          "base_uri": "https://localhost:8080/"
        },
        "id": "325GSuJjOjHB",
        "outputId": "1159a15a-b1c7-451c-881f-ae86881dc763"
      },
      "id": "325GSuJjOjHB",
      "execution_count": null,
      "outputs": [
        {
          "output_type": "stream",
          "name": "stdout",
          "text": [
            "charantej akri 1234433123\n"
          ]
        }
      ]
    },
    {
      "cell_type": "markdown",
      "source": [
        "26. lstrip()"
      ],
      "metadata": {
        "id": "Y3gqGGJ2O2KI"
      },
      "id": "Y3gqGGJ2O2KI"
    },
    {
      "cell_type": "code",
      "source": [
        "a=\"    Charantej\"\n",
        "print(a.lstrip())"
      ],
      "metadata": {
        "colab": {
          "base_uri": "https://localhost:8080/"
        },
        "id": "EjQ0ie8iO6d7",
        "outputId": "63fba6c7-e758-4f83-bef8-b2fa55dcbfa7"
      },
      "id": "EjQ0ie8iO6d7",
      "execution_count": null,
      "outputs": [
        {
          "output_type": "stream",
          "name": "stdout",
          "text": [
            "Charantej\n"
          ]
        }
      ]
    },
    {
      "cell_type": "code",
      "source": [
        "a=\"www.google.com\"\n",
        "print(a.lstrip(\"w.\"))"
      ],
      "metadata": {
        "colab": {
          "base_uri": "https://localhost:8080/"
        },
        "id": "H9R_UUo5O66W",
        "outputId": "7f7e35df-e31c-4831-eb52-cf25b731810e"
      },
      "id": "H9R_UUo5O66W",
      "execution_count": null,
      "outputs": [
        {
          "output_type": "stream",
          "name": "stdout",
          "text": [
            "google.com\n"
          ]
        }
      ]
    },
    {
      "cell_type": "code",
      "source": [
        "a=\"AKRICHARANTEJ\"\n",
        "print(a.lstrip(\"AKRI\"))"
      ],
      "metadata": {
        "colab": {
          "base_uri": "https://localhost:8080/"
        },
        "id": "yzW9DMyhO62_",
        "outputId": "51786e22-ac5e-46d0-b1f9-38670160abfa"
      },
      "id": "yzW9DMyhO62_",
      "execution_count": null,
      "outputs": [
        {
          "output_type": "stream",
          "name": "stdout",
          "text": [
            "CHARANTEJ\n"
          ]
        }
      ]
    },
    {
      "cell_type": "markdown",
      "source": [
        "27. maketrans()"
      ],
      "metadata": {
        "id": "ZaA1tP1SP17b"
      },
      "id": "ZaA1tP1SP17b"
    },
    {
      "cell_type": "code",
      "source": [
        "a=str.maketrans(\"aeiou\",\"12345\")\n",
        "b=\"Charantejakri\"\n",
        "print(b.translate(a))"
      ],
      "metadata": {
        "colab": {
          "base_uri": "https://localhost:8080/"
        },
        "id": "y2OpVaURP4BN",
        "outputId": "de937d92-c271-46d6-ef60-a8e791212841"
      },
      "id": "y2OpVaURP4BN",
      "execution_count": null,
      "outputs": [
        {
          "output_type": "stream",
          "name": "stdout",
          "text": [
            "Ch1r1nt2j1kr3\n"
          ]
        }
      ]
    },
    {
      "cell_type": "code",
      "source": [
        "a=str.maketrans({ord(\"a\"):\"1\",ord(\"k\"):\"2\",ord(\"r\"):\"3\",ord(\"i\"):\"4\"})\n",
        "b=\"akri akri akri akri akri\"\n",
        "print(b.translate(a))"
      ],
      "metadata": {
        "colab": {
          "base_uri": "https://localhost:8080/"
        },
        "id": "Wb0cWSrCP4ic",
        "outputId": "9ed249eb-f733-4024-a655-07159092b05a"
      },
      "id": "Wb0cWSrCP4ic",
      "execution_count": null,
      "outputs": [
        {
          "output_type": "stream",
          "name": "stdout",
          "text": [
            "1234 1234 1234 1234 1234\n"
          ]
        }
      ]
    },
    {
      "cell_type": "code",
      "source": [
        "a=str.maketrans({97:49,107:50,114:51,105:52,111:53})\n",
        "b=\"akrion\"\n",
        "print(b.translate(a))"
      ],
      "metadata": {
        "colab": {
          "base_uri": "https://localhost:8080/"
        },
        "id": "ZVPYCiE3P4fD",
        "outputId": "7039df2f-2125-4c26-84a2-08a3d114226f"
      },
      "id": "ZVPYCiE3P4fD",
      "execution_count": null,
      "outputs": [
        {
          "output_type": "stream",
          "name": "stdout",
          "text": [
            "12345n\n"
          ]
        }
      ]
    },
    {
      "cell_type": "markdown",
      "source": [
        "28. partition()"
      ],
      "metadata": {
        "id": "2gx3Tr17U59J"
      },
      "id": "2gx3Tr17U59J"
    },
    {
      "cell_type": "code",
      "source": [
        "a=\"Charantej Akri\"\n",
        "print(a.partition(\"Akri\"))"
      ],
      "metadata": {
        "colab": {
          "base_uri": "https://localhost:8080/"
        },
        "id": "r06ClkruU9gK",
        "outputId": "961888df-9590-405f-a600-0fbf92e1e5d2"
      },
      "id": "r06ClkruU9gK",
      "execution_count": null,
      "outputs": [
        {
          "output_type": "stream",
          "name": "stdout",
          "text": [
            "('Charantej ', 'Akri', '')\n"
          ]
        }
      ]
    },
    {
      "cell_type": "code",
      "source": [
        "a=\"12345 6789\"\n",
        "print(a.partition(\"5\"))"
      ],
      "metadata": {
        "colab": {
          "base_uri": "https://localhost:8080/"
        },
        "id": "-q0Fm79BU98c",
        "outputId": "56ea9251-c4c1-429f-9b8f-fca3aeac55dd"
      },
      "id": "-q0Fm79BU98c",
      "execution_count": null,
      "outputs": [
        {
          "output_type": "stream",
          "name": "stdout",
          "text": [
            "('1234', '5', ' 6789')\n"
          ]
        }
      ]
    },
    {
      "cell_type": "code",
      "source": [
        "a=\"Charantej Akri\"\n",
        "print(a.partition(\"Azeem\"))"
      ],
      "metadata": {
        "colab": {
          "base_uri": "https://localhost:8080/"
        },
        "id": "yC6vVE8eU95E",
        "outputId": "f8974ad7-82fe-4a2c-869a-2ad354c4ef13"
      },
      "id": "yC6vVE8eU95E",
      "execution_count": null,
      "outputs": [
        {
          "output_type": "stream",
          "name": "stdout",
          "text": [
            "('Charantej Akri', '', '')\n"
          ]
        }
      ]
    },
    {
      "cell_type": "markdown",
      "source": [
        "29. removeprefix()"
      ],
      "metadata": {
        "id": "RVlazml0Wb8r"
      },
      "id": "RVlazml0Wb8r"
    },
    {
      "cell_type": "code",
      "source": [
        "a=\"Name is Charantej Akri\"\n",
        "print(a.removeprefix(\"Name is \"))"
      ],
      "metadata": {
        "colab": {
          "base_uri": "https://localhost:8080/"
        },
        "id": "-1TpxMx1WnNO",
        "outputId": "f5e1acb5-ba26-423d-8274-5725ea697c61"
      },
      "id": "-1TpxMx1WnNO",
      "execution_count": null,
      "outputs": [
        {
          "output_type": "stream",
          "name": "stdout",
          "text": [
            "Charantej Akri\n"
          ]
        }
      ]
    },
    {
      "cell_type": "code",
      "source": [
        "a=\"Name is Charantej Akri\"\n",
        "print(a.removeprefix(\"Charantej\"))"
      ],
      "metadata": {
        "colab": {
          "base_uri": "https://localhost:8080/"
        },
        "id": "IfXVTUjpWngH",
        "outputId": "0770eda9-ed93-4f2f-8120-3de1817b9eee"
      },
      "id": "IfXVTUjpWngH",
      "execution_count": null,
      "outputs": [
        {
          "output_type": "stream",
          "name": "stdout",
          "text": [
            "Name is Charantej Akri\n"
          ]
        }
      ]
    },
    {
      "cell_type": "code",
      "source": [
        "a=\"IMG_242342.jpg\"\n",
        "print(a.removeprefix(\"IMG_\"))"
      ],
      "metadata": {
        "colab": {
          "base_uri": "https://localhost:8080/"
        },
        "id": "dy1H-F5iWncy",
        "outputId": "f363af1e-fa71-4a3c-c98d-a7790f49bee6"
      },
      "id": "dy1H-F5iWncy",
      "execution_count": null,
      "outputs": [
        {
          "output_type": "stream",
          "name": "stdout",
          "text": [
            "242342.jpg\n"
          ]
        }
      ]
    },
    {
      "cell_type": "markdown",
      "source": [
        "30.removesuffix()"
      ],
      "metadata": {
        "id": "DWpuSGahXUc0"
      },
      "id": "DWpuSGahXUc0"
    },
    {
      "cell_type": "code",
      "source": [
        "a=\"Name is Charantej Akri\"\n",
        "print(a.removesuffix(\"Akri\"))"
      ],
      "metadata": {
        "colab": {
          "base_uri": "https://localhost:8080/"
        },
        "id": "hay4V46OXXj1",
        "outputId": "34de356d-a9b3-4f81-8627-c5e9b6349dc7"
      },
      "id": "hay4V46OXXj1",
      "execution_count": null,
      "outputs": [
        {
          "output_type": "stream",
          "name": "stdout",
          "text": [
            "Name is Charantej \n"
          ]
        }
      ]
    },
    {
      "cell_type": "code",
      "source": [
        "a=\"Name is Charantej Akri\"\n",
        "print(a.removesuffix(\"Charantej\"))"
      ],
      "metadata": {
        "colab": {
          "base_uri": "https://localhost:8080/"
        },
        "id": "Vs6QrzDnXX1b",
        "outputId": "6c271f15-f372-429f-8190-28eec19e8ff5"
      },
      "id": "Vs6QrzDnXX1b",
      "execution_count": null,
      "outputs": [
        {
          "output_type": "stream",
          "name": "stdout",
          "text": [
            "Name is Charantej Akri\n"
          ]
        }
      ]
    },
    {
      "cell_type": "code",
      "source": [
        "a=\"IMG_24325324.jpg\"\n",
        "print(a.removesuffix(\".jpg\"))"
      ],
      "metadata": {
        "colab": {
          "base_uri": "https://localhost:8080/"
        },
        "id": "tckVUcM0XXyB",
        "outputId": "dc01ab70-5630-4e96-eaeb-6b359408d6b8"
      },
      "id": "tckVUcM0XXyB",
      "execution_count": null,
      "outputs": [
        {
          "output_type": "stream",
          "name": "stdout",
          "text": [
            "IMG_24325324\n"
          ]
        }
      ]
    },
    {
      "cell_type": "markdown",
      "source": [
        "31. replace()"
      ],
      "metadata": {
        "id": "AdfFiamUX29f"
      },
      "id": "AdfFiamUX29f"
    },
    {
      "cell_type": "code",
      "source": [
        "a=\"Charantej Akri\"\n",
        "print(a.replace(\"Akri\",\"akri\"))"
      ],
      "metadata": {
        "colab": {
          "base_uri": "https://localhost:8080/"
        },
        "id": "XJkK8OmqX4x4",
        "outputId": "dadfee77-5145-4af5-eeea-bea18501786f"
      },
      "id": "XJkK8OmqX4x4",
      "execution_count": null,
      "outputs": [
        {
          "output_type": "stream",
          "name": "stdout",
          "text": [
            "Charantej akri\n"
          ]
        }
      ]
    },
    {
      "cell_type": "code",
      "source": [
        "a=\"We are going to Goa\"\n",
        "print(a.replace(\"Goa\",\"Mumbai\"))"
      ],
      "metadata": {
        "colab": {
          "base_uri": "https://localhost:8080/"
        },
        "id": "cBJmNeHIX5O3",
        "outputId": "8cc8ed6d-8aaa-4843-dd37-d07b9d7d6cd4"
      },
      "id": "cBJmNeHIX5O3",
      "execution_count": null,
      "outputs": [
        {
          "output_type": "stream",
          "name": "stdout",
          "text": [
            "We are going Mumbai\n"
          ]
        }
      ]
    },
    {
      "cell_type": "code",
      "source": [
        "a=\"Fire is good,Fire is better,Fire is necessary,Fire is the only thing.\"\n",
        "b=\"Water is good,Water is better,Water is necessary,Water is the only thing.\"\n",
        "print(a.replace(\"Fire\",\"Water\",2))\n",
        "print(b.replace(\"Water\",\"Earth\",4))"
      ],
      "metadata": {
        "colab": {
          "base_uri": "https://localhost:8080/"
        },
        "id": "95zrksuoX5Ld",
        "outputId": "45c10138-b998-4e72-8ebb-f34799f903f5"
      },
      "id": "95zrksuoX5Ld",
      "execution_count": null,
      "outputs": [
        {
          "output_type": "stream",
          "name": "stdout",
          "text": [
            "Water is good,Water is better,Fire is necessary,Fire is the only thing.\n",
            "Earth is good,Earth is better,Earth is necessary,Earth is the only thing.\n"
          ]
        }
      ]
    },
    {
      "cell_type": "markdown",
      "source": [
        "32. rfind()"
      ],
      "metadata": {
        "id": "h2QPE1tSZ2kR"
      },
      "id": "h2QPE1tSZ2kR"
    },
    {
      "cell_type": "code",
      "source": [
        "a=\"Fire is good,Fire is better,Fire is necessary,Fire is the only thing.\"\n",
        "print(a.rfind(\"Fire\"))"
      ],
      "metadata": {
        "colab": {
          "base_uri": "https://localhost:8080/"
        },
        "id": "9mI8iOe5Z434",
        "outputId": "41ada419-3007-4a24-85e6-3db541b1af72"
      },
      "id": "9mI8iOe5Z434",
      "execution_count": null,
      "outputs": [
        {
          "output_type": "stream",
          "name": "stdout",
          "text": [
            "46\n"
          ]
        }
      ]
    },
    {
      "cell_type": "code",
      "source": [
        "a=\"Fire is good,Fire is better,Fire is necessary,Fire is the only thing.\"\n",
        "print(a.rfind(\"is\",0,20))"
      ],
      "metadata": {
        "colab": {
          "base_uri": "https://localhost:8080/"
        },
        "id": "Heom3Q3tZ5V4",
        "outputId": "9e2abee9-292b-423e-e627-ecae11a4c0ae"
      },
      "id": "Heom3Q3tZ5V4",
      "execution_count": null,
      "outputs": [
        {
          "output_type": "stream",
          "name": "stdout",
          "text": [
            "18\n"
          ]
        }
      ]
    },
    {
      "cell_type": "code",
      "source": [
        "a=\"Fire is good,Fire is better,Fire is necessary,Fire is the only thing.\"\n",
        "print(a.rfind(\"Water\"))"
      ],
      "metadata": {
        "colab": {
          "base_uri": "https://localhost:8080/"
        },
        "id": "xJtW2IKJZ5Sf",
        "outputId": "738c3657-300f-4d3b-b4b3-a57bcc77ed61"
      },
      "id": "xJtW2IKJZ5Sf",
      "execution_count": null,
      "outputs": [
        {
          "output_type": "stream",
          "name": "stdout",
          "text": [
            "-1\n"
          ]
        }
      ]
    },
    {
      "cell_type": "markdown",
      "source": [
        "33. rindex()"
      ],
      "metadata": {
        "id": "m1s5QSoycVv3"
      },
      "id": "m1s5QSoycVv3"
    },
    {
      "cell_type": "code",
      "source": [
        "a=\"Fire is good,Fire is better,Fire is necessary,Fire is the only thing.\"\n",
        "print(a.rindex(\"Fire\"))"
      ],
      "metadata": {
        "colab": {
          "base_uri": "https://localhost:8080/"
        },
        "id": "nBnkwLFOcY2u",
        "outputId": "ff629233-7054-45cb-80ed-c13c07108921"
      },
      "id": "nBnkwLFOcY2u",
      "execution_count": null,
      "outputs": [
        {
          "output_type": "stream",
          "name": "stdout",
          "text": [
            "46\n"
          ]
        }
      ]
    },
    {
      "cell_type": "code",
      "source": [
        "a=\"Fire is good,Fire is better,Fire is necessary,Fire is the only thing.\"\n",
        "print(a.rindex(\"Fire\",0,35))"
      ],
      "metadata": {
        "colab": {
          "base_uri": "https://localhost:8080/"
        },
        "id": "1pI7F_cUcZZk",
        "outputId": "b1c8b547-573c-412c-faef-4ad188cd14d3"
      },
      "id": "1pI7F_cUcZZk",
      "execution_count": null,
      "outputs": [
        {
          "output_type": "stream",
          "name": "stdout",
          "text": [
            "28\n"
          ]
        }
      ]
    },
    {
      "cell_type": "code",
      "source": [
        "a=\"Fire is good,Fire is better,Fire is necessary,Fire is the only thing.\"\n",
        "print(a.rindex(\"Water\"))"
      ],
      "metadata": {
        "colab": {
          "base_uri": "https://localhost:8080/",
          "height": 158
        },
        "id": "ThFiIKEWcZU2",
        "outputId": "400fe5e9-ddd5-4a8e-b573-2331783a1b68"
      },
      "id": "ThFiIKEWcZU2",
      "execution_count": null,
      "outputs": [
        {
          "output_type": "error",
          "ename": "ValueError",
          "evalue": "substring not found",
          "traceback": [
            "\u001b[0;31m---------------------------------------------------------------------------\u001b[0m",
            "\u001b[0;31mValueError\u001b[0m                                Traceback (most recent call last)",
            "\u001b[0;32m/tmp/ipython-input-176-1306964415.py\u001b[0m in \u001b[0;36m<cell line: 0>\u001b[0;34m()\u001b[0m\n\u001b[1;32m      1\u001b[0m \u001b[0ma\u001b[0m\u001b[0;34m=\u001b[0m\u001b[0;34m\"Fire is good,Fire is better,Fire is necessary,Fire is the only thing.\"\u001b[0m\u001b[0;34m\u001b[0m\u001b[0;34m\u001b[0m\u001b[0m\n\u001b[0;32m----> 2\u001b[0;31m \u001b[0mprint\u001b[0m\u001b[0;34m(\u001b[0m\u001b[0ma\u001b[0m\u001b[0;34m.\u001b[0m\u001b[0mrindex\u001b[0m\u001b[0;34m(\u001b[0m\u001b[0;34m\"Water\"\u001b[0m\u001b[0;34m)\u001b[0m\u001b[0;34m)\u001b[0m\u001b[0;34m\u001b[0m\u001b[0;34m\u001b[0m\u001b[0m\n\u001b[0m",
            "\u001b[0;31mValueError\u001b[0m: substring not found"
          ]
        }
      ]
    },
    {
      "cell_type": "markdown",
      "source": [
        "34. rjust()"
      ],
      "metadata": {
        "id": "D2UN8dltdw93"
      },
      "id": "D2UN8dltdw93"
    },
    {
      "cell_type": "code",
      "source": [
        "a=\"Fire is good,Fire is better,Fire is necessary,Fire is the only thing.\"\n",
        "print(a.rjust(100))"
      ],
      "metadata": {
        "colab": {
          "base_uri": "https://localhost:8080/"
        },
        "id": "8d7Sno6IdzL-",
        "outputId": "b758059f-a080-4b8c-9414-a22c3d437ea7"
      },
      "id": "8d7Sno6IdzL-",
      "execution_count": null,
      "outputs": [
        {
          "output_type": "stream",
          "name": "stdout",
          "text": [
            "                               Fire is good,Fire is better,Fire is necessary,Fire is the only thing.\n"
          ]
        }
      ]
    },
    {
      "cell_type": "code",
      "source": [
        "a=\"Fire is good,Fire is better,Fire is necessary,Fire is the only thing.\"\n",
        "print(a.rjust(100,\"*\"))"
      ],
      "metadata": {
        "colab": {
          "base_uri": "https://localhost:8080/"
        },
        "id": "xa-ZuK5cdzoa",
        "outputId": "f303ee16-e060-41b8-8e0e-7e5709d6e012"
      },
      "id": "xa-ZuK5cdzoa",
      "execution_count": null,
      "outputs": [
        {
          "output_type": "stream",
          "name": "stdout",
          "text": [
            "*******************************Fire is good,Fire is better,Fire is necessary,Fire is the only thing.\n"
          ]
        }
      ]
    },
    {
      "cell_type": "code",
      "source": [
        "a=\"Fire is good,Fire is better,Fire is necessary,Fire is the only thing.\"\n",
        "print(a.rjust(150,\"+\"))"
      ],
      "metadata": {
        "colab": {
          "base_uri": "https://localhost:8080/"
        },
        "id": "NdEHSCtkdzk4",
        "outputId": "d1242107-3b4e-4d71-94b3-6194eb721ea9"
      },
      "id": "NdEHSCtkdzk4",
      "execution_count": null,
      "outputs": [
        {
          "output_type": "stream",
          "name": "stdout",
          "text": [
            "+++++++++++++++++++++++++++++++++++++++++++++++++++++++++++++++++++++++++++++++++Fire is good,Fire is better,Fire is necessary,Fire is the only thing.\n"
          ]
        }
      ]
    },
    {
      "cell_type": "markdown",
      "source": [
        "35. rpartition()"
      ],
      "metadata": {
        "id": "johzLtI8eZVZ"
      },
      "id": "johzLtI8eZVZ"
    },
    {
      "cell_type": "code",
      "source": [
        "a=\"Fire is good,Fire is better,Fire is necessary,Fire is the only thing.\"\n",
        "print(a.rpartition(\"Fire\"))"
      ],
      "metadata": {
        "colab": {
          "base_uri": "https://localhost:8080/"
        },
        "id": "E-swisRXecgh",
        "outputId": "a9369cad-2094-4d6f-bcb5-444338e6a217"
      },
      "id": "E-swisRXecgh",
      "execution_count": null,
      "outputs": [
        {
          "output_type": "stream",
          "name": "stdout",
          "text": [
            "('Fire is good,Fire is better,Fire is necessary,', 'Fire', ' is the only thing.')\n"
          ]
        }
      ]
    },
    {
      "cell_type": "code",
      "source": [
        "a=\"Fire is good,Fire is better,Fire is necessary,Fire is the only thing.\"\n",
        "print(a.rpartition(\"better\"))"
      ],
      "metadata": {
        "colab": {
          "base_uri": "https://localhost:8080/"
        },
        "id": "LTPC7QMEec8y",
        "outputId": "df631771-44d7-4559-92f8-2a2b7485f177"
      },
      "id": "LTPC7QMEec8y",
      "execution_count": null,
      "outputs": [
        {
          "output_type": "stream",
          "name": "stdout",
          "text": [
            "('Fire is good,Fire is ', 'better', ',Fire is necessary,Fire is the only thing.')\n"
          ]
        }
      ]
    },
    {
      "cell_type": "code",
      "source": [
        "a=\"My name is Charan tej Akri\"\n",
        "print(a.rpartition(\"o\"))"
      ],
      "metadata": {
        "colab": {
          "base_uri": "https://localhost:8080/"
        },
        "id": "gnmsm8Alec2W",
        "outputId": "88077f0e-00e7-4784-c096-d23e9cac9b03"
      },
      "id": "gnmsm8Alec2W",
      "execution_count": null,
      "outputs": [
        {
          "output_type": "stream",
          "name": "stdout",
          "text": [
            "('', '', 'My name is Charan tej Akri')\n"
          ]
        }
      ]
    },
    {
      "cell_type": "markdown",
      "source": [
        "36. rsplit()"
      ],
      "metadata": {
        "id": "sv7xyJj6fgS4"
      },
      "id": "sv7xyJj6fgS4"
    },
    {
      "cell_type": "code",
      "source": [
        "a=\"My name is Charan tej Akri\"\n",
        "print(a.rsplit(\"Charan\"))"
      ],
      "metadata": {
        "colab": {
          "base_uri": "https://localhost:8080/"
        },
        "id": "P7AoWGDSfiVv",
        "outputId": "be1df6b3-7baa-4080-9bd4-0387daeca61b"
      },
      "id": "P7AoWGDSfiVv",
      "execution_count": null,
      "outputs": [
        {
          "output_type": "stream",
          "name": "stdout",
          "text": [
            "['My name is ', ' tej Akri']\n"
          ]
        }
      ]
    },
    {
      "cell_type": "code",
      "source": [
        "a=\"My-name-is-Charan-tej-Akri\"\n",
        "print(a.rsplit(\"-\",5))"
      ],
      "metadata": {
        "colab": {
          "base_uri": "https://localhost:8080/"
        },
        "id": "xBT8yeWsfi3_",
        "outputId": "a1b716a7-62a3-4c9a-8d43-90595a294002"
      },
      "id": "xBT8yeWsfi3_",
      "execution_count": null,
      "outputs": [
        {
          "output_type": "stream",
          "name": "stdout",
          "text": [
            "['My', 'name', 'is', 'Charan', 'tej', 'Akri']\n"
          ]
        }
      ]
    },
    {
      "cell_type": "code",
      "source": [
        "a=\"My name is Charan is tej is Akri\"\n",
        "print(a.rsplit(\"is\",2))"
      ],
      "metadata": {
        "colab": {
          "base_uri": "https://localhost:8080/"
        },
        "id": "sTZv9lvCfiu6",
        "outputId": "7441bdd8-08be-4118-c089-393510732e7b"
      },
      "id": "sTZv9lvCfiu6",
      "execution_count": null,
      "outputs": [
        {
          "output_type": "stream",
          "name": "stdout",
          "text": [
            "['My name is Charan ', ' tej ', ' Akri']\n"
          ]
        }
      ]
    },
    {
      "cell_type": "markdown",
      "source": [
        "37. rstrip()"
      ],
      "metadata": {
        "id": "Dw9LcHuIgEXd"
      },
      "id": "Dw9LcHuIgEXd"
    },
    {
      "cell_type": "code",
      "source": [
        "a=\"My name is Charantej Akri\"\n",
        "print(a.rstrip(\"Akri\"))"
      ],
      "metadata": {
        "colab": {
          "base_uri": "https://localhost:8080/"
        },
        "id": "lUU0j2ThgJT6",
        "outputId": "5df583ab-5a20-4f8f-9760-81937549251d"
      },
      "id": "lUU0j2ThgJT6",
      "execution_count": null,
      "outputs": [
        {
          "output_type": "stream",
          "name": "stdout",
          "text": [
            "My name is Charantej \n"
          ]
        }
      ]
    },
    {
      "cell_type": "code",
      "source": [
        "a=\"My-name-is-Charantej-Akri\"\n",
        "print(a.rstrip(\"-\"))"
      ],
      "metadata": {
        "colab": {
          "base_uri": "https://localhost:8080/"
        },
        "id": "L1WtGk71gJzU",
        "outputId": "0e7fb863-ecd0-4811-94b0-33aed0cfda60"
      },
      "id": "L1WtGk71gJzU",
      "execution_count": null,
      "outputs": [
        {
          "output_type": "stream",
          "name": "stdout",
          "text": [
            "My-name-is-Charantej-Akri\n"
          ]
        }
      ]
    },
    {
      "cell_type": "code",
      "source": [
        "a=\"My-name-is-Charantej-Akri\"\n",
        "print(a.rstrip(\"ri\"))"
      ],
      "metadata": {
        "colab": {
          "base_uri": "https://localhost:8080/"
        },
        "id": "T3Ip_osXgJv9",
        "outputId": "544f12b3-431a-49e3-90f3-453564d8a453"
      },
      "id": "T3Ip_osXgJv9",
      "execution_count": null,
      "outputs": [
        {
          "output_type": "stream",
          "name": "stdout",
          "text": [
            "My-name-is-Charantej-Ak\n"
          ]
        }
      ]
    },
    {
      "cell_type": "markdown",
      "source": [
        "38. split()"
      ],
      "metadata": {
        "id": "pIOQu-c8gyeZ"
      },
      "id": "pIOQu-c8gyeZ"
    },
    {
      "cell_type": "code",
      "source": [
        "a=\"My name is Charantej Akri\"\n",
        "print(a.split())"
      ],
      "metadata": {
        "colab": {
          "base_uri": "https://localhost:8080/"
        },
        "id": "IU0D_ki4gz9p",
        "outputId": "910670db-1113-4d20-d856-11e84183ccef"
      },
      "id": "IU0D_ki4gz9p",
      "execution_count": null,
      "outputs": [
        {
          "output_type": "stream",
          "name": "stdout",
          "text": [
            "['My', 'name', 'is', 'Charantej', 'Akri']\n"
          ]
        }
      ]
    },
    {
      "cell_type": "code",
      "source": [
        "a=\"My name is Charantej akri\"\n",
        "print(a.split(\"a\",2))"
      ],
      "metadata": {
        "colab": {
          "base_uri": "https://localhost:8080/"
        },
        "id": "AlepS4YGjPbX",
        "outputId": "b66d28e9-865b-4508-a6fc-8393d3bfb8da"
      },
      "id": "AlepS4YGjPbX",
      "execution_count": null,
      "outputs": [
        {
          "output_type": "stream",
          "name": "stdout",
          "text": [
            "['My n', 'me is Ch', 'rantej akri']\n"
          ]
        }
      ]
    },
    {
      "cell_type": "code",
      "source": [
        "a=\"My-name-is-Charantej-Akri\"\n",
        "print(a.split(\"-\",3))"
      ],
      "metadata": {
        "colab": {
          "base_uri": "https://localhost:8080/"
        },
        "id": "AKITstUQjPXS",
        "outputId": "9adb962c-fa81-4ebf-c199-81ffcd39354d"
      },
      "id": "AKITstUQjPXS",
      "execution_count": null,
      "outputs": [
        {
          "output_type": "stream",
          "name": "stdout",
          "text": [
            "['My', 'name', 'is', 'Charantej-Akri']\n"
          ]
        }
      ]
    },
    {
      "cell_type": "markdown",
      "source": [
        "39. splitlines()"
      ],
      "metadata": {
        "id": "B9qGYVoljySP"
      },
      "id": "B9qGYVoljySP"
    },
    {
      "cell_type": "code",
      "source": [
        "a=\"My name is Charantej Akri\\nI am a Devops Engineer\"\n",
        "print(a.splitlines())"
      ],
      "metadata": {
        "colab": {
          "base_uri": "https://localhost:8080/"
        },
        "id": "ma2InhKHj1hw",
        "outputId": "56edeeb3-d9fd-490b-c4cf-e343040df7b4"
      },
      "id": "ma2InhKHj1hw",
      "execution_count": null,
      "outputs": [
        {
          "output_type": "stream",
          "name": "stdout",
          "text": [
            "['My name is Charantej Akri', 'I am a Devops Engineer']\n"
          ]
        }
      ]
    },
    {
      "cell_type": "code",
      "source": [
        "a=\"My name is Charantej Akri\\nI am a Devops Engineer\"\n",
        "print(a.splitlines(True))"
      ],
      "metadata": {
        "colab": {
          "base_uri": "https://localhost:8080/"
        },
        "id": "Sqfuy9Ssj18M",
        "outputId": "0ee9b963-6dc3-4292-97e0-210ccc5fc4af"
      },
      "id": "Sqfuy9Ssj18M",
      "execution_count": null,
      "outputs": [
        {
          "output_type": "stream",
          "name": "stdout",
          "text": [
            "['My name is Charantej Akri\\n', 'I am a Devops Engineer']\n"
          ]
        }
      ]
    },
    {
      "cell_type": "code",
      "source": [
        "a=\"My\\nname\\nis\\nCharan\\ntej\\nakri\\nand\\nI\\nam\\na\\nDevOps\\nEngineer\"\n",
        "print(a.splitlines())"
      ],
      "metadata": {
        "colab": {
          "base_uri": "https://localhost:8080/"
        },
        "id": "f6jG32bZj14j",
        "outputId": "d2e28c6e-8d42-454b-ac97-e728598a560e"
      },
      "id": "f6jG32bZj14j",
      "execution_count": null,
      "outputs": [
        {
          "output_type": "stream",
          "name": "stdout",
          "text": [
            "['My', 'name', 'is', 'Charan', 'tej', 'akri', 'and', 'I', 'am', 'a', 'DevOps', 'Engineer']\n"
          ]
        }
      ]
    },
    {
      "cell_type": "markdown",
      "source": [
        "40. startswith()"
      ],
      "metadata": {
        "id": "i5vfzVo6k7zk"
      },
      "id": "i5vfzVo6k7zk"
    },
    {
      "cell_type": "code",
      "source": [
        "a=\"My name is Charantej Akri\"\n",
        "print(a.startswith(\"My\"))"
      ],
      "metadata": {
        "colab": {
          "base_uri": "https://localhost:8080/"
        },
        "id": "yiPhkSg9llO9",
        "outputId": "a4296762-cc13-42d5-c4ff-c9ca04e9b0dd"
      },
      "id": "yiPhkSg9llO9",
      "execution_count": null,
      "outputs": [
        {
          "output_type": "stream",
          "name": "stdout",
          "text": [
            "True\n"
          ]
        }
      ]
    },
    {
      "cell_type": "code",
      "source": [
        "a=\"My name is Charantej Akri\"\n",
        "print(a.startswith(\"name\"))"
      ],
      "metadata": {
        "colab": {
          "base_uri": "https://localhost:8080/"
        },
        "id": "9fKYNyyQljqh",
        "outputId": "6c6c0961-757b-4114-d86b-636d4c635863"
      },
      "id": "9fKYNyyQljqh",
      "execution_count": null,
      "outputs": [
        {
          "output_type": "stream",
          "name": "stdout",
          "text": [
            "False\n"
          ]
        }
      ]
    },
    {
      "cell_type": "code",
      "source": [
        "a=\"My name is Charantej Akri\"\n",
        "print(a.startswith(\"is\",8,15))"
      ],
      "metadata": {
        "colab": {
          "base_uri": "https://localhost:8080/"
        },
        "id": "Kq1Mgio_lkO3",
        "outputId": "bce861d5-ab5f-47e9-c2d8-16d9d62e55a0"
      },
      "id": "Kq1Mgio_lkO3",
      "execution_count": null,
      "outputs": [
        {
          "output_type": "stream",
          "name": "stdout",
          "text": [
            "True\n"
          ]
        }
      ]
    },
    {
      "cell_type": "markdown",
      "source": [
        "'strip', 'swapcase', 'title', 'translate', 'upper', 'zfill'"
      ],
      "metadata": {
        "id": "5V2dsKoPmMp3"
      },
      "id": "5V2dsKoPmMp3"
    },
    {
      "cell_type": "markdown",
      "source": [
        "41. strip()"
      ],
      "metadata": {
        "id": "leLJWKrpmVo7"
      },
      "id": "leLJWKrpmVo7"
    },
    {
      "cell_type": "code",
      "source": [
        "a=\"My name is Charantej Akri\"\n",
        "print(a.strip(\"i\"))"
      ],
      "metadata": {
        "colab": {
          "base_uri": "https://localhost:8080/"
        },
        "id": "XNs7PIO5lkKy",
        "outputId": "cd577db5-c490-4d0c-95ee-f9d94a327bb2"
      },
      "id": "XNs7PIO5lkKy",
      "execution_count": null,
      "outputs": [
        {
          "output_type": "stream",
          "name": "stdout",
          "text": [
            "My name is Charantej Akr\n"
          ]
        }
      ]
    },
    {
      "cell_type": "code",
      "source": [
        "a=\"----My name is Charantej Akri----\"\n",
        "print(a.strip(\"-\"))"
      ],
      "metadata": {
        "colab": {
          "base_uri": "https://localhost:8080/"
        },
        "id": "M5RQHZIqmYmF",
        "outputId": "d307714a-9794-4c12-8cf1-c37599f418e8"
      },
      "id": "M5RQHZIqmYmF",
      "execution_count": null,
      "outputs": [
        {
          "output_type": "stream",
          "name": "stdout",
          "text": [
            "My name is Charantej Akri\n"
          ]
        }
      ]
    },
    {
      "cell_type": "code",
      "source": [
        "a=\"    My name is Charantej Akri    \"\n",
        "print(a.strip())"
      ],
      "metadata": {
        "colab": {
          "base_uri": "https://localhost:8080/"
        },
        "id": "2HNY-gbbmYij",
        "outputId": "6199c865-01ff-4520-9214-9a16047c4596"
      },
      "id": "2HNY-gbbmYij",
      "execution_count": null,
      "outputs": [
        {
          "output_type": "stream",
          "name": "stdout",
          "text": [
            "My name is Charantej Akri\n"
          ]
        }
      ]
    },
    {
      "cell_type": "markdown",
      "source": [
        "42. swapcase()"
      ],
      "metadata": {
        "id": "DEE8irbqnpq9"
      },
      "id": "DEE8irbqnpq9"
    },
    {
      "cell_type": "code",
      "source": [
        "a=\"My name is Charantej Akri\"\n",
        "print(a.swapcase())"
      ],
      "metadata": {
        "colab": {
          "base_uri": "https://localhost:8080/"
        },
        "id": "AYprz5Ibnty6",
        "outputId": "443fdf21-1b66-423c-8940-c093270c3e29"
      },
      "id": "AYprz5Ibnty6",
      "execution_count": null,
      "outputs": [
        {
          "output_type": "stream",
          "name": "stdout",
          "text": [
            "mY NAME IS cHARANTEJ aKRI\n"
          ]
        }
      ]
    },
    {
      "cell_type": "code",
      "source": [
        "a=\"i am a devops builder in aja\"\n",
        "print(a.swapcase())"
      ],
      "metadata": {
        "colab": {
          "base_uri": "https://localhost:8080/"
        },
        "id": "zjQwiEXTntnd",
        "outputId": "b9598a96-7260-4324-d555-15c4f793c957"
      },
      "id": "zjQwiEXTntnd",
      "execution_count": null,
      "outputs": [
        {
          "output_type": "stream",
          "name": "stdout",
          "text": [
            "I AM A DEVOPS BUILDER IN AJA\n"
          ]
        }
      ]
    },
    {
      "cell_type": "code",
      "source": [
        "a=\"My name is Charantej akri and i am 25 years old.\"\n",
        "print(a.swapcase())"
      ],
      "metadata": {
        "colab": {
          "base_uri": "https://localhost:8080/"
        },
        "id": "Ek38y5FhntVl",
        "outputId": "4df42b73-1502-4bbd-9530-1fda19b52dec"
      },
      "id": "Ek38y5FhntVl",
      "execution_count": null,
      "outputs": [
        {
          "output_type": "stream",
          "name": "stdout",
          "text": [
            "mY NAME IS cHARANTEJ AKRI AND I AM 25 YEARS OLD.\n"
          ]
        }
      ]
    },
    {
      "cell_type": "markdown",
      "source": [
        "43. title()"
      ],
      "metadata": {
        "id": "vsxGikN7ohHv"
      },
      "id": "vsxGikN7ohHv"
    },
    {
      "cell_type": "code",
      "source": [
        "a=\"i am a devops engineer\"\n",
        "print(a.title())"
      ],
      "metadata": {
        "colab": {
          "base_uri": "https://localhost:8080/"
        },
        "id": "vsyf-DvfokWl",
        "outputId": "0d8a3ac2-173d-4d3b-fce0-d54544e95b71"
      },
      "id": "vsyf-DvfokWl",
      "execution_count": null,
      "outputs": [
        {
          "output_type": "stream",
          "name": "stdout",
          "text": [
            "I Am A Devops Engineer\n"
          ]
        }
      ]
    },
    {
      "cell_type": "code",
      "source": [
        "a=\"my name is charan tej akri and i am a devops engineer in aja\"\n",
        "print(a.title())"
      ],
      "metadata": {
        "colab": {
          "base_uri": "https://localhost:8080/"
        },
        "id": "xe_jQ6AMolBt",
        "outputId": "0d3df1e0-f686-4ced-8173-bd53e10f869f"
      },
      "id": "xe_jQ6AMolBt",
      "execution_count": null,
      "outputs": [
        {
          "output_type": "stream",
          "name": "stdout",
          "text": [
            "My Name Is Charan Tej Akri And I Am A Devops Engineer In Aja\n"
          ]
        }
      ]
    },
    {
      "cell_type": "code",
      "source": [
        "a=\"My Name Is Charantej Akri\"\n",
        "print(a.title())"
      ],
      "metadata": {
        "colab": {
          "base_uri": "https://localhost:8080/"
        },
        "id": "enqQ6Xj-ok5F",
        "outputId": "1a0ad877-c18d-4705-e762-47edf31c0e4e"
      },
      "id": "enqQ6Xj-ok5F",
      "execution_count": null,
      "outputs": [
        {
          "output_type": "stream",
          "name": "stdout",
          "text": [
            "My Name Is Charantej Akri\n"
          ]
        }
      ]
    },
    {
      "cell_type": "markdown",
      "source": [
        "44. translate()"
      ],
      "metadata": {
        "id": "usS8wLpxpXHM"
      },
      "id": "usS8wLpxpXHM"
    },
    {
      "cell_type": "code",
      "source": [
        "a=\"My name is Charantej Akri\"\n",
        "b=a.maketrans(\"a\",\"A\")\n",
        "print(a.translate(b))"
      ],
      "metadata": {
        "colab": {
          "base_uri": "https://localhost:8080/"
        },
        "id": "FIXAuUAFpZIU",
        "outputId": "0d1c2445-89d1-464b-cf07-8647e335cc6d"
      },
      "id": "FIXAuUAFpZIU",
      "execution_count": null,
      "outputs": [
        {
          "output_type": "stream",
          "name": "stdout",
          "text": [
            "My nAme is ChArAntej Akri\n"
          ]
        }
      ]
    },
    {
      "cell_type": "code",
      "source": [
        "a=\"My name is Charantej Akri\"\n",
        "b=a.maketrans(\"a\",\"Z\",\"e\")\n",
        "print(a.translate(b))"
      ],
      "metadata": {
        "colab": {
          "base_uri": "https://localhost:8080/"
        },
        "id": "0GyakwPZpZrC",
        "outputId": "4206b2d2-62d6-4fde-f62b-5424c5c7b8cd"
      },
      "id": "0GyakwPZpZrC",
      "execution_count": null,
      "outputs": [
        {
          "output_type": "stream",
          "name": "stdout",
          "text": [
            "My nZm is ChZrZntj Akri\n"
          ]
        }
      ]
    },
    {
      "cell_type": "code",
      "source": [
        "a=\"My name is Charantej Akri\"\n",
        "b=a.maketrans(\"a\",\" \")\n",
        "print(a.translate(b))"
      ],
      "metadata": {
        "colab": {
          "base_uri": "https://localhost:8080/"
        },
        "id": "Itu_DQS_pZnD",
        "outputId": "872b82d9-2d9d-4d16-8c65-0ebb62199c43"
      },
      "id": "Itu_DQS_pZnD",
      "execution_count": null,
      "outputs": [
        {
          "output_type": "stream",
          "name": "stdout",
          "text": [
            "My n me is Ch r ntej Akri\n"
          ]
        }
      ]
    },
    {
      "cell_type": "markdown",
      "source": [
        "45. upper()"
      ],
      "metadata": {
        "id": "4RKbCqgjqME5"
      },
      "id": "4RKbCqgjqME5"
    },
    {
      "cell_type": "code",
      "source": [
        "a=\"My name is Charantej Akri\"\n",
        "print(a.upper())"
      ],
      "metadata": {
        "colab": {
          "base_uri": "https://localhost:8080/"
        },
        "id": "0cOyeNIhqLqw",
        "outputId": "d60db590-7bc1-4b3d-ce85-08f0bbae0d5e"
      },
      "id": "0cOyeNIhqLqw",
      "execution_count": null,
      "outputs": [
        {
          "output_type": "stream",
          "name": "stdout",
          "text": [
            "MY NAME IS CHARANTEJ AKRI\n"
          ]
        }
      ]
    },
    {
      "cell_type": "code",
      "source": [
        "a=\"MY NAME IS CHARANTEJ AKRI\"\n",
        "print(a.upper())"
      ],
      "metadata": {
        "colab": {
          "base_uri": "https://localhost:8080/"
        },
        "id": "fbXXMSXjqOn0",
        "outputId": "1cd60417-230a-48dc-862f-fa22544d6a69"
      },
      "id": "fbXXMSXjqOn0",
      "execution_count": null,
      "outputs": [
        {
          "output_type": "stream",
          "name": "stdout",
          "text": [
            "MY NAME IS CHARANTEJ AKRI\n"
          ]
        }
      ]
    },
    {
      "cell_type": "code",
      "source": [
        "a=\"My name is Charantej akri 123 also i am a devops engineer\"\n",
        "print(a.upper())"
      ],
      "metadata": {
        "colab": {
          "base_uri": "https://localhost:8080/"
        },
        "id": "Y_2tvpWOqPHA",
        "outputId": "1b6bfba0-ce26-436c-e9ff-10e0fda36226"
      },
      "id": "Y_2tvpWOqPHA",
      "execution_count": null,
      "outputs": [
        {
          "output_type": "stream",
          "name": "stdout",
          "text": [
            "MY NAME IS CHARANTEJ AKRI 123 ALSO I AM A DEVOPS ENGINEER\n"
          ]
        }
      ]
    },
    {
      "cell_type": "markdown",
      "source": [
        "46. zfill()"
      ],
      "metadata": {
        "id": "xry4-uKyrjfT"
      },
      "id": "xry4-uKyrjfT"
    },
    {
      "cell_type": "code",
      "source": [
        "a=\"12\"\n",
        "print(a.zfill(5))"
      ],
      "metadata": {
        "colab": {
          "base_uri": "https://localhost:8080/"
        },
        "id": "9j3i34WFrltf",
        "outputId": "40a146f5-9d12-46a6-dfeb-0270cebc9fe4"
      },
      "id": "9j3i34WFrltf",
      "execution_count": null,
      "outputs": [
        {
          "output_type": "stream",
          "name": "stdout",
          "text": [
            "00012\n"
          ]
        }
      ]
    },
    {
      "cell_type": "code",
      "source": [
        "a=\"Hello\"\n",
        "print(a.zfill(10))"
      ],
      "metadata": {
        "colab": {
          "base_uri": "https://localhost:8080/"
        },
        "id": "yBAR5kwUrmJL",
        "outputId": "b1567d46-7c9c-49d3-833d-a75b450327d2"
      },
      "id": "yBAR5kwUrmJL",
      "execution_count": null,
      "outputs": [
        {
          "output_type": "stream",
          "name": "stdout",
          "text": [
            "00000Hello\n"
          ]
        }
      ]
    },
    {
      "cell_type": "code",
      "source": [
        "a=\"-12\"\n",
        "print(a.zfill(10))"
      ],
      "metadata": {
        "colab": {
          "base_uri": "https://localhost:8080/"
        },
        "id": "hGK26865rmFu",
        "outputId": "a7419fc8-8f42-4098-dbbb-d8e1a3958812"
      },
      "id": "hGK26865rmFu",
      "execution_count": null,
      "outputs": [
        {
          "output_type": "stream",
          "name": "stdout",
          "text": [
            "-000000012\n"
          ]
        }
      ]
    }
  ],
  "metadata": {
    "kernelspec": {
      "display_name": "Python [conda env:base] *",
      "language": "python",
      "name": "conda-base-py"
    },
    "language_info": {
      "codemirror_mode": {
        "name": "ipython",
        "version": 3
      },
      "file_extension": ".py",
      "mimetype": "text/x-python",
      "name": "python",
      "nbconvert_exporter": "python",
      "pygments_lexer": "ipython3",
      "version": "3.12.7"
    },
    "colab": {
      "provenance": [],
      "include_colab_link": true
    }
  },
  "nbformat": 4,
  "nbformat_minor": 5
}